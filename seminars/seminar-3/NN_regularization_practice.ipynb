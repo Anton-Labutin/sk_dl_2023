{
  "cells": [
    {
      "cell_type": "markdown",
      "source": [
        "# Regularization tricks for NN"
      ],
      "metadata": {
        "id": "a_NFNi16lDRI"
      },
      "id": "a_NFNi16lDRI"
    },
    {
      "cell_type": "code",
      "execution_count": 1,
      "id": "2b193247",
      "metadata": {
        "id": "2b193247"
      },
      "outputs": [],
      "source": [
        "import os\n",
        "os.environ[\"CUDA_DEVICE_ORDER\"]=\"PCI_BUS_ID\"  \n",
        "os.environ[\"CUDA_VISIBLE_DEVICES\"]=\"0\" # change 0  with whatever card is available"
      ]
    },
    {
      "cell_type": "markdown",
      "id": "9b74fc4c",
      "metadata": {
        "id": "9b74fc4c"
      },
      "source": [
        "## Dropout\n",
        "\n",
        "- It has a hyperparameter $p \\in [0, 1]$ which is a probability of zero out\n",
        "- Different behaviour in train and test stages\n",
        "- Induce sparsity of activations\n",
        "- Formally it is a layer $f$ that\n",
        "  - in train: $f(x) = m * x$, where $m$ is a mask tensor such that for example $$m_{ij} = \\begin{cases} 1, & \\text{with probability } p \\\\ 0, & \\text{with probability } 1-p \\end{cases}$$ \n",
        "  and  $*$ means elementwise product\n",
        "  - in test: $f(x) = px$ to preserve expected value\n",
        "- Different extensions that make forward pass in training stochastic and \"marginalized\" it in inference stage. What can you propose as an example of such methods?\n"
      ]
    },
    {
      "cell_type": "code",
      "source": [
        "!pip install wandb -q\n",
        "!wandb login"
      ],
      "metadata": {
        "colab": {
          "base_uri": "https://localhost:8080/"
        },
        "id": "39ABeyB3jtSz",
        "outputId": "f7e47286-7a7f-480b-df4b-5561f57cefb1"
      },
      "id": "39ABeyB3jtSz",
      "execution_count": 3,
      "outputs": [
        {
          "output_type": "stream",
          "name": "stdout",
          "text": [
            "\u001b[34m\u001b[1mwandb\u001b[0m: Currently logged in as: \u001b[33mbratishka\u001b[0m (\u001b[33mskoltech_optimization\u001b[0m). Use \u001b[1m`wandb login --relogin`\u001b[0m to force relogin\n"
          ]
        }
      ]
    },
    {
      "cell_type": "code",
      "execution_count": 4,
      "id": "c820f6ef",
      "metadata": {
        "id": "c820f6ef"
      },
      "outputs": [],
      "source": [
        "import torch\n",
        "import torch.nn as nn\n",
        "import matplotlib.pyplot as plt\n",
        "import numpy as np\n",
        "from torchvision import datasets, transforms\n",
        "import torch.nn.functional as F\n",
        "import copy\n",
        "import wandb"
      ]
    },
    {
      "cell_type": "code",
      "execution_count": 5,
      "id": "01f04bc9",
      "metadata": {
        "colab": {
          "base_uri": "https://localhost:8080/"
        },
        "id": "01f04bc9",
        "outputId": "d14d746e-bed9-44e4-93fc-b74c2822f8d4"
      },
      "outputs": [
        {
          "output_type": "stream",
          "name": "stdout",
          "text": [
            "cuda\n"
          ]
        }
      ],
      "source": [
        "device = \"cuda\" if torch.cuda.is_available() else \"cpu\"\n",
        "print(device)"
      ]
    },
    {
      "cell_type": "code",
      "execution_count": 6,
      "id": "eebdef08",
      "metadata": {
        "colab": {
          "base_uri": "https://localhost:8080/",
          "height": 447,
          "referenced_widgets": [
            "a9b259fd21334cef9c6a15094b587706",
            "f1bc6b4bca8f463e9a0f8c6c06ee2231",
            "c32f88131ce7417c83fbe34de3a9b2a9",
            "3f885b2b34c546ed99257fcbd3502d61",
            "851aaa65665f4599b217cdc7b6f179df",
            "6aa47870a67b4600a80863865c70f902",
            "b5a008397ffc4297937ab302fab67f34",
            "3f8bc06225e3454a98145c5f9fbb2434",
            "b2d59d6f38c94a9899107dad087449d8",
            "76bc0639e95d4c0f9283f1b83217c0b7",
            "394163f60bc749a7861d23260f0954cc",
            "988d236eb1f14936b4e5f1182360dd1a",
            "cb4a6d719cbb4da3ad91621e8a838250",
            "dc73530c83744167bd25b05b417e28a0",
            "f2e0e812b5ea4b7795b8978be056c82e",
            "b6e84644c9ae46ff87abf7afa53fc88c",
            "25b89ea96ce743b48885db0a4043be63",
            "f2b5e6132c3d4c25bb0013468decd49d",
            "506ddc0ae32d46069ebb0b01072b7315",
            "14299d1b86dd4bc282ce2839149bb164",
            "98ba5ea41d3f44bab99e7afc217b8510",
            "1e0515b3ad2648eea23b7eb28292faa4",
            "a18865f1446d46739d036623a2f4c1b9",
            "43c33354ca8b40d1842d77c3fc85b0ec",
            "e5742f85c21148288d1f27c5ce7b5842",
            "b1e6b5a0799c4714af41e2300e1a103d",
            "4be593f3a3504a8193e16a477ccefe5d",
            "fd9a41308c964b679b9ea1a7a8321267",
            "5590bb0db1ac433fbbda9dc35eff815e",
            "ace09eeabde4415faa1dba06ef35140e",
            "e24d990f58114022baa5bb4c36e47280",
            "9e8057197c934d858a4a15e236c79191",
            "2a3106b795dd40ecaecc8a35db705f83",
            "abfdc31b4490489caf4d4115c8670892",
            "aec995c2c7974f20a0a24ede8fd226ab",
            "e11109b3b34f42fc95a2af72d74265cd",
            "8fa3c6b6e5544569bc90e29ea3aecfc1",
            "80b1cc9c6aa4466abbb34f447927440b",
            "6ac68b0450bb408ab29c7f13a2dfaaa9",
            "31a397c4da834a368377db5220021ec3",
            "7055aab9e9754befa98a4f26303ccfad",
            "50d8ca00caac459ebeca1da1d5793d60",
            "cbc48f2ca9e94012be032efba30f9b1f",
            "8606168802f542f793c47cfb9fbc8c94"
          ]
        },
        "id": "eebdef08",
        "outputId": "ca1fb51e-0a9b-44b3-ffcc-a8e48e3846cc"
      },
      "outputs": [
        {
          "output_type": "stream",
          "name": "stdout",
          "text": [
            "Downloading http://yann.lecun.com/exdb/mnist/train-images-idx3-ubyte.gz\n",
            "Downloading http://yann.lecun.com/exdb/mnist/train-images-idx3-ubyte.gz to ../data/MNIST/raw/train-images-idx3-ubyte.gz\n"
          ]
        },
        {
          "output_type": "display_data",
          "data": {
            "text/plain": [
              "  0%|          | 0/9912422 [00:00<?, ?it/s]"
            ],
            "application/vnd.jupyter.widget-view+json": {
              "version_major": 2,
              "version_minor": 0,
              "model_id": "a9b259fd21334cef9c6a15094b587706"
            }
          },
          "metadata": {}
        },
        {
          "output_type": "stream",
          "name": "stdout",
          "text": [
            "Extracting ../data/MNIST/raw/train-images-idx3-ubyte.gz to ../data/MNIST/raw\n",
            "\n",
            "Downloading http://yann.lecun.com/exdb/mnist/train-labels-idx1-ubyte.gz\n",
            "Downloading http://yann.lecun.com/exdb/mnist/train-labels-idx1-ubyte.gz to ../data/MNIST/raw/train-labels-idx1-ubyte.gz\n"
          ]
        },
        {
          "output_type": "display_data",
          "data": {
            "text/plain": [
              "  0%|          | 0/28881 [00:00<?, ?it/s]"
            ],
            "application/vnd.jupyter.widget-view+json": {
              "version_major": 2,
              "version_minor": 0,
              "model_id": "988d236eb1f14936b4e5f1182360dd1a"
            }
          },
          "metadata": {}
        },
        {
          "output_type": "stream",
          "name": "stdout",
          "text": [
            "Extracting ../data/MNIST/raw/train-labels-idx1-ubyte.gz to ../data/MNIST/raw\n",
            "\n",
            "Downloading http://yann.lecun.com/exdb/mnist/t10k-images-idx3-ubyte.gz\n",
            "Downloading http://yann.lecun.com/exdb/mnist/t10k-images-idx3-ubyte.gz to ../data/MNIST/raw/t10k-images-idx3-ubyte.gz\n"
          ]
        },
        {
          "output_type": "display_data",
          "data": {
            "text/plain": [
              "  0%|          | 0/1648877 [00:00<?, ?it/s]"
            ],
            "application/vnd.jupyter.widget-view+json": {
              "version_major": 2,
              "version_minor": 0,
              "model_id": "a18865f1446d46739d036623a2f4c1b9"
            }
          },
          "metadata": {}
        },
        {
          "output_type": "stream",
          "name": "stdout",
          "text": [
            "Extracting ../data/MNIST/raw/t10k-images-idx3-ubyte.gz to ../data/MNIST/raw\n",
            "\n",
            "Downloading http://yann.lecun.com/exdb/mnist/t10k-labels-idx1-ubyte.gz\n",
            "Downloading http://yann.lecun.com/exdb/mnist/t10k-labels-idx1-ubyte.gz to ../data/MNIST/raw/t10k-labels-idx1-ubyte.gz\n"
          ]
        },
        {
          "output_type": "display_data",
          "data": {
            "text/plain": [
              "  0%|          | 0/4542 [00:00<?, ?it/s]"
            ],
            "application/vnd.jupyter.widget-view+json": {
              "version_major": 2,
              "version_minor": 0,
              "model_id": "abfdc31b4490489caf4d4115c8670892"
            }
          },
          "metadata": {}
        },
        {
          "output_type": "stream",
          "name": "stdout",
          "text": [
            "Extracting ../data/MNIST/raw/t10k-labels-idx1-ubyte.gz to ../data/MNIST/raw\n",
            "\n"
          ]
        }
      ],
      "source": [
        "batch_size = 1000\n",
        "\n",
        "train_loader = torch.utils.data.DataLoader(datasets.MNIST('../data', train=True, download=True,\n",
        "                                           transform=transforms.Compose([\n",
        "                                           transforms.ToTensor()\n",
        "                                           ])),\n",
        "                            batch_size=batch_size, shuffle=True)\n",
        "\n",
        "test_loader = torch.utils.data.DataLoader(datasets.MNIST('../data', train=False, download=True,\n",
        "                                                           transform=transforms.Compose([\n",
        "                                                           transforms.ToTensor()])),\n",
        "                batch_size=batch_size, shuffle=True)"
      ]
    },
    {
      "cell_type": "code",
      "execution_count": 7,
      "id": "8d70362f",
      "metadata": {
        "id": "8d70362f"
      },
      "outputs": [],
      "source": [
        "class MLP(nn.Module):\n",
        "  def __init__(self, num_layers, hidden_dim):\n",
        "    super(MLP, self).__init__()\n",
        "    self.layers = nn.ModuleList([nn.Linear(28*28, hidden_dim)])\n",
        "    self.nonlinearity = nn.ReLU()\n",
        "    self.layers += nn.ModuleList([nn.Linear(hidden_dim, hidden_dim) for i in range(num_layers)])\n",
        "    self.final = nn.Linear(hidden_dim, 10)\n",
        "  def forward(self, x):\n",
        "    # print(x.shape)\n",
        "    x = x.view(-1, 28*28)\n",
        "    for l in self.layers:\n",
        "      x = l(x)\n",
        "      x = self.nonlinearity(x)\n",
        "    x = self.final(x)\n",
        "    return x"
      ]
    },
    {
      "cell_type": "code",
      "execution_count": 10,
      "id": "b6d35d0b",
      "metadata": {
        "id": "b6d35d0b"
      },
      "outputs": [],
      "source": [
        "def train(model, train_loader, optimizer, epoch, log_interval):\n",
        "    model.train()\n",
        "    current_conv = []\n",
        "    crit = nn.CrossEntropyLoss()\n",
        "    for batch_idx, (data, target) in enumerate(train_loader):\n",
        "        data, target = data.to(device), target.to(device)\n",
        "        optimizer.zero_grad()\n",
        "        output = model(data)\n",
        "        loss = crit(output, target)\n",
        "        loss.backward()\n",
        "        current_conv.append(loss.detach().cpu().item())\n",
        "        optimizer.step()\n",
        "        if batch_idx % log_interval == 0:\n",
        "            train_loss = loss.item()\n",
        "            wandb.log({\n",
        "                \"Train loss\": train_loss,\n",
        "                \"epoch\": epoch\n",
        "            })\n",
        "            print('Train Epoch: {} [{}/{} ({:.0f}%)]\\tLoss: {:.6f}'.format(\n",
        "                epoch, batch_idx * len(data), len(train_loader.dataset),\n",
        "                100. * batch_idx / len(train_loader), train_loss))\n",
        "    return current_conv\n",
        "\n",
        "def test(model, test_loader, train_loader):\n",
        "    model.eval()\n",
        "    test_loss = 0\n",
        "    correct = 0\n",
        "    crit = nn.CrossEntropyLoss(reduction=\"mean\")\n",
        "    with torch.no_grad():\n",
        "        for data, target in test_loader:\n",
        "            data, target = data.to(device), target.to(device)\n",
        "            output = model(data)\n",
        "            test_loss += crit(output, target).item() # sum up batch loss\n",
        "            pred = output.max(1, keepdim=True)[1] # get the index of the max log-probability\n",
        "            correct += pred.eq(target.view_as(pred)).sum().item()\n",
        "\n",
        "    test_loss /= len(test_loader.dataset)\n",
        "    test_accuracy = 100. * correct / len(test_loader.dataset)\n",
        "    wandb.log({\n",
        "                \"Test loss\": test_loss,\n",
        "                \"epoch\": epoch,\n",
        "                \"Test accuracy\": test_accuracy\n",
        "            })\n",
        "    print('\\nTest set: Average loss: {:.4f}, Accuracy: {}/{} ({:.0f}%)\\n'.format(\n",
        "        test_loss, correct, len(test_loader.dataset),\n",
        "        test_accuracy))\n",
        "    train_loss = 0\n",
        "    correct = 0\n",
        "    with torch.no_grad():\n",
        "        for data, target in train_loader:\n",
        "            data, target = data.to(device), target.to(device)\n",
        "            output = model(data)\n",
        "            train_loss += crit(output, target).item() # sum up batch loss\n",
        "            pred = output.max(1, keepdim=True)[1] # get the index of the max log-probability\n",
        "            correct += pred.eq(target.view_as(pred)).sum().item()\n",
        "            \n",
        "    train_loss /= len(train_loader.dataset)\n",
        "\n",
        "    return train_loss, test_loss"
      ]
    },
    {
      "cell_type": "code",
      "execution_count": 11,
      "id": "fc8469af",
      "metadata": {
        "id": "fc8469af"
      },
      "outputs": [],
      "source": [
        "config = dict(\n",
        "    model = \"FC\",\n",
        "    lr = 5e-4,\n",
        "    n_epoch = 20,\n",
        "    log_interval = 10\n",
        ")\n",
        "\n",
        "mlp_no_dropout = MLP(10, 1000).to(device)\n",
        "initial_mlp_model = copy.deepcopy(mlp_no_dropout)\n",
        "conv_mlp_no_dropout = []\n",
        "adam_opt = torch.optim.Adam(mlp_no_dropout.parameters(), lr=config[\"lr\"])"
      ]
    },
    {
      "cell_type": "code",
      "execution_count": 12,
      "id": "c10021ed",
      "metadata": {
        "colab": {
          "base_uri": "https://localhost:8080/"
        },
        "id": "c10021ed",
        "outputId": "e14aa91d-c0a1-461f-e217-d9d86a5759cc"
      },
      "outputs": [
        {
          "output_type": "execute_result",
          "data": {
            "text/plain": [
              "MLP(\n",
              "  (layers): ModuleList(\n",
              "    (0): Linear(in_features=784, out_features=1000, bias=True)\n",
              "    (1): Linear(in_features=1000, out_features=1000, bias=True)\n",
              "    (2): Linear(in_features=1000, out_features=1000, bias=True)\n",
              "    (3): Linear(in_features=1000, out_features=1000, bias=True)\n",
              "    (4): Linear(in_features=1000, out_features=1000, bias=True)\n",
              "    (5): Linear(in_features=1000, out_features=1000, bias=True)\n",
              "    (6): Linear(in_features=1000, out_features=1000, bias=True)\n",
              "    (7): Linear(in_features=1000, out_features=1000, bias=True)\n",
              "    (8): Linear(in_features=1000, out_features=1000, bias=True)\n",
              "    (9): Linear(in_features=1000, out_features=1000, bias=True)\n",
              "    (10): Linear(in_features=1000, out_features=1000, bias=True)\n",
              "  )\n",
              "  (nonlinearity): ReLU()\n",
              "  (final): Linear(in_features=1000, out_features=10, bias=True)\n",
              ")"
            ]
          },
          "metadata": {},
          "execution_count": 12
        }
      ],
      "source": [
        "mlp_no_dropout"
      ]
    },
    {
      "cell_type": "code",
      "source": [
        "def count_parameters(model):\n",
        "    return sum(p.numel() for p in model.parameters() if p.requires_grad)\n",
        "\n",
        "print(f\"{count_parameters(mlp_no_dropout)}\")"
      ],
      "metadata": {
        "colab": {
          "base_uri": "https://localhost:8080/"
        },
        "id": "GRWAL0XroIzg",
        "outputId": "ffb11dda-1a92-4d69-8073-6f3b91d5e88c"
      },
      "id": "GRWAL0XroIzg",
      "execution_count": 16,
      "outputs": [
        {
          "output_type": "stream",
          "name": "stdout",
          "text": [
            "10805010\n"
          ]
        }
      ]
    },
    {
      "cell_type": "code",
      "execution_count": 13,
      "id": "16e63fbd",
      "metadata": {
        "id": "16e63fbd"
      },
      "outputs": [],
      "source": [
        "epoch_train_loss = []\n",
        "epoch_test_loss = []"
      ]
    },
    {
      "cell_type": "code",
      "execution_count": 14,
      "id": "26f086cb",
      "metadata": {
        "scrolled": true,
        "colab": {
          "base_uri": "https://localhost:8080/",
          "height": 1000
        },
        "id": "26f086cb",
        "outputId": "61fb1141-e9cd-4463-a15c-ae21fbb71e5f"
      },
      "outputs": [
        {
          "output_type": "stream",
          "name": "stderr",
          "text": [
            "\u001b[34m\u001b[1mwandb\u001b[0m: Currently logged in as: \u001b[33mbratishka\u001b[0m (\u001b[33mskoltech_optimization\u001b[0m). Use \u001b[1m`wandb login --relogin`\u001b[0m to force relogin\n"
          ]
        },
        {
          "output_type": "display_data",
          "data": {
            "text/plain": [
              "<IPython.core.display.HTML object>"
            ],
            "text/html": [
              "Tracking run with wandb version 0.14.0"
            ]
          },
          "metadata": {}
        },
        {
          "output_type": "display_data",
          "data": {
            "text/plain": [
              "<IPython.core.display.HTML object>"
            ],
            "text/html": [
              "Run data is saved locally in <code>/content/wandb/run-20230331_073655-5wo5qoml</code>"
            ]
          },
          "metadata": {}
        },
        {
          "output_type": "display_data",
          "data": {
            "text/plain": [
              "<IPython.core.display.HTML object>"
            ],
            "text/html": [
              "Syncing run <strong><a href='https://wandb.ai/skoltech_optimization/NN%20practice.%20Dropout/runs/5wo5qoml' target=\"_blank\">vocal-pond-3</a></strong> to <a href='https://wandb.ai/skoltech_optimization/NN%20practice.%20Dropout' target=\"_blank\">Weights & Biases</a> (<a href='https://wandb.me/run' target=\"_blank\">docs</a>)<br/>"
            ]
          },
          "metadata": {}
        },
        {
          "output_type": "display_data",
          "data": {
            "text/plain": [
              "<IPython.core.display.HTML object>"
            ],
            "text/html": [
              " View project at <a href='https://wandb.ai/skoltech_optimization/NN%20practice.%20Dropout' target=\"_blank\">https://wandb.ai/skoltech_optimization/NN%20practice.%20Dropout</a>"
            ]
          },
          "metadata": {}
        },
        {
          "output_type": "display_data",
          "data": {
            "text/plain": [
              "<IPython.core.display.HTML object>"
            ],
            "text/html": [
              " View run at <a href='https://wandb.ai/skoltech_optimization/NN%20practice.%20Dropout/runs/5wo5qoml' target=\"_blank\">https://wandb.ai/skoltech_optimization/NN%20practice.%20Dropout/runs/5wo5qoml</a>"
            ]
          },
          "metadata": {}
        },
        {
          "output_type": "stream",
          "name": "stdout",
          "text": [
            "Train Epoch: 1 [0/60000 (0%)]\tLoss: 2.302968\n",
            "Train Epoch: 1 [10000/60000 (17%)]\tLoss: 2.226870\n",
            "Train Epoch: 1 [20000/60000 (33%)]\tLoss: 1.869569\n",
            "Train Epoch: 1 [30000/60000 (50%)]\tLoss: 1.669996\n",
            "Train Epoch: 1 [40000/60000 (67%)]\tLoss: 1.676983\n",
            "Train Epoch: 1 [50000/60000 (83%)]\tLoss: 1.663432\n",
            "\n",
            "Test set: Average loss: 0.0015, Accuracy: 4455/10000 (45%)\n",
            "\n",
            "Train Epoch: 2 [0/60000 (0%)]\tLoss: 1.499768\n",
            "Train Epoch: 2 [10000/60000 (17%)]\tLoss: 1.344690\n",
            "Train Epoch: 2 [20000/60000 (33%)]\tLoss: 1.072059\n",
            "Train Epoch: 2 [30000/60000 (50%)]\tLoss: 0.859588\n",
            "Train Epoch: 2 [40000/60000 (67%)]\tLoss: 0.706904\n",
            "Train Epoch: 2 [50000/60000 (83%)]\tLoss: 0.688053\n",
            "\n",
            "Test set: Average loss: 0.0006, Accuracy: 7462/10000 (75%)\n",
            "\n",
            "Train Epoch: 3 [0/60000 (0%)]\tLoss: 0.649011\n",
            "Train Epoch: 3 [10000/60000 (17%)]\tLoss: 0.466714\n",
            "Train Epoch: 3 [20000/60000 (33%)]\tLoss: 0.491327\n",
            "Train Epoch: 3 [30000/60000 (50%)]\tLoss: 0.395287\n",
            "Train Epoch: 3 [40000/60000 (67%)]\tLoss: 0.289891\n",
            "Train Epoch: 3 [50000/60000 (83%)]\tLoss: 0.259128\n",
            "\n",
            "Test set: Average loss: 0.0003, Accuracy: 9206/10000 (92%)\n",
            "\n",
            "Train Epoch: 4 [0/60000 (0%)]\tLoss: 0.239711\n",
            "Train Epoch: 4 [10000/60000 (17%)]\tLoss: 0.194560\n",
            "Train Epoch: 4 [20000/60000 (33%)]\tLoss: 0.198040\n",
            "Train Epoch: 4 [30000/60000 (50%)]\tLoss: 0.143692\n",
            "Train Epoch: 4 [40000/60000 (67%)]\tLoss: 0.153185\n",
            "Train Epoch: 4 [50000/60000 (83%)]\tLoss: 1.305488\n",
            "\n",
            "Test set: Average loss: 0.0009, Accuracy: 6014/10000 (60%)\n",
            "\n",
            "Train Epoch: 5 [0/60000 (0%)]\tLoss: 0.990837\n",
            "Train Epoch: 5 [10000/60000 (17%)]\tLoss: 1.333999\n",
            "Train Epoch: 5 [20000/60000 (33%)]\tLoss: 1.049434\n",
            "Train Epoch: 5 [30000/60000 (50%)]\tLoss: 0.698414\n",
            "Train Epoch: 5 [40000/60000 (67%)]\tLoss: 0.604689\n",
            "Train Epoch: 5 [50000/60000 (83%)]\tLoss: 0.536670\n",
            "\n",
            "Test set: Average loss: 0.0004, Accuracy: 8584/10000 (86%)\n",
            "\n",
            "Train Epoch: 6 [0/60000 (0%)]\tLoss: 0.326450\n",
            "Train Epoch: 6 [10000/60000 (17%)]\tLoss: 0.263239\n",
            "Train Epoch: 6 [20000/60000 (33%)]\tLoss: 0.195664\n",
            "Train Epoch: 6 [30000/60000 (50%)]\tLoss: 0.159010\n",
            "Train Epoch: 6 [40000/60000 (67%)]\tLoss: 0.160472\n",
            "Train Epoch: 6 [50000/60000 (83%)]\tLoss: 0.149928\n",
            "\n",
            "Test set: Average loss: 0.0002, Accuracy: 9619/10000 (96%)\n",
            "\n",
            "Train Epoch: 7 [0/60000 (0%)]\tLoss: 0.096848\n",
            "Train Epoch: 7 [10000/60000 (17%)]\tLoss: 0.096289\n",
            "Train Epoch: 7 [20000/60000 (33%)]\tLoss: 0.088248\n",
            "Train Epoch: 7 [30000/60000 (50%)]\tLoss: 0.094187\n",
            "Train Epoch: 7 [40000/60000 (67%)]\tLoss: 0.087472\n",
            "Train Epoch: 7 [50000/60000 (83%)]\tLoss: 0.083720\n",
            "\n",
            "Test set: Average loss: 0.0001, Accuracy: 9659/10000 (97%)\n",
            "\n",
            "Train Epoch: 8 [0/60000 (0%)]\tLoss: 0.060234\n",
            "Train Epoch: 8 [10000/60000 (17%)]\tLoss: 0.073384\n",
            "Train Epoch: 8 [20000/60000 (33%)]\tLoss: 0.052864\n",
            "Train Epoch: 8 [30000/60000 (50%)]\tLoss: 0.063032\n",
            "Train Epoch: 8 [40000/60000 (67%)]\tLoss: 0.075692\n",
            "Train Epoch: 8 [50000/60000 (83%)]\tLoss: 0.049433\n",
            "\n",
            "Test set: Average loss: 0.0001, Accuracy: 9687/10000 (97%)\n",
            "\n",
            "Train Epoch: 9 [0/60000 (0%)]\tLoss: 0.054465\n",
            "Train Epoch: 9 [10000/60000 (17%)]\tLoss: 0.040094\n",
            "Train Epoch: 9 [20000/60000 (33%)]\tLoss: 0.055794\n",
            "Train Epoch: 9 [30000/60000 (50%)]\tLoss: 0.081198\n",
            "Train Epoch: 9 [40000/60000 (67%)]\tLoss: 0.037905\n",
            "Train Epoch: 9 [50000/60000 (83%)]\tLoss: 0.066853\n",
            "\n",
            "Test set: Average loss: 0.0001, Accuracy: 9718/10000 (97%)\n",
            "\n",
            "Train Epoch: 10 [0/60000 (0%)]\tLoss: 0.037373\n",
            "Train Epoch: 10 [10000/60000 (17%)]\tLoss: 0.047139\n",
            "Train Epoch: 10 [20000/60000 (33%)]\tLoss: 0.050319\n",
            "Train Epoch: 10 [30000/60000 (50%)]\tLoss: 0.065731\n",
            "Train Epoch: 10 [40000/60000 (67%)]\tLoss: 0.045258\n",
            "Train Epoch: 10 [50000/60000 (83%)]\tLoss: 0.042917\n",
            "\n",
            "Test set: Average loss: 0.0001, Accuracy: 9738/10000 (97%)\n",
            "\n",
            "Train Epoch: 11 [0/60000 (0%)]\tLoss: 0.036701\n",
            "Train Epoch: 11 [10000/60000 (17%)]\tLoss: 0.037179\n",
            "Train Epoch: 11 [20000/60000 (33%)]\tLoss: 0.061251\n",
            "Train Epoch: 11 [30000/60000 (50%)]\tLoss: 0.033473\n",
            "Train Epoch: 11 [40000/60000 (67%)]\tLoss: 0.047914\n",
            "Train Epoch: 11 [50000/60000 (83%)]\tLoss: 0.037522\n",
            "\n",
            "Test set: Average loss: 0.0001, Accuracy: 9735/10000 (97%)\n",
            "\n",
            "Train Epoch: 12 [0/60000 (0%)]\tLoss: 0.026932\n",
            "Train Epoch: 12 [10000/60000 (17%)]\tLoss: 0.046450\n",
            "Train Epoch: 12 [20000/60000 (33%)]\tLoss: 0.020306\n",
            "Train Epoch: 12 [30000/60000 (50%)]\tLoss: 0.023922\n",
            "Train Epoch: 12 [40000/60000 (67%)]\tLoss: 0.027401\n",
            "Train Epoch: 12 [50000/60000 (83%)]\tLoss: 0.036213\n",
            "\n",
            "Test set: Average loss: 0.0001, Accuracy: 9749/10000 (97%)\n",
            "\n",
            "Train Epoch: 13 [0/60000 (0%)]\tLoss: 0.029566\n",
            "Train Epoch: 13 [10000/60000 (17%)]\tLoss: 0.020563\n",
            "Train Epoch: 13 [20000/60000 (33%)]\tLoss: 0.016813\n",
            "Train Epoch: 13 [30000/60000 (50%)]\tLoss: 0.029997\n",
            "Train Epoch: 13 [40000/60000 (67%)]\tLoss: 0.018738\n",
            "Train Epoch: 13 [50000/60000 (83%)]\tLoss: 0.016720\n",
            "\n",
            "Test set: Average loss: 0.0001, Accuracy: 9767/10000 (98%)\n",
            "\n",
            "Train Epoch: 14 [0/60000 (0%)]\tLoss: 0.008506\n",
            "Train Epoch: 14 [10000/60000 (17%)]\tLoss: 0.014698\n",
            "Train Epoch: 14 [20000/60000 (33%)]\tLoss: 0.039902\n",
            "Train Epoch: 14 [30000/60000 (50%)]\tLoss: 0.010121\n",
            "Train Epoch: 14 [40000/60000 (67%)]\tLoss: 0.024098\n",
            "Train Epoch: 14 [50000/60000 (83%)]\tLoss: 0.004982\n",
            "\n",
            "Test set: Average loss: 0.0002, Accuracy: 9714/10000 (97%)\n",
            "\n",
            "Train Epoch: 15 [0/60000 (0%)]\tLoss: 0.032701\n",
            "Train Epoch: 15 [10000/60000 (17%)]\tLoss: 0.050841\n",
            "Train Epoch: 15 [20000/60000 (33%)]\tLoss: 0.016051\n",
            "Train Epoch: 15 [30000/60000 (50%)]\tLoss: 0.039593\n",
            "Train Epoch: 15 [40000/60000 (67%)]\tLoss: 0.021199\n",
            "Train Epoch: 15 [50000/60000 (83%)]\tLoss: 0.034281\n",
            "\n",
            "Test set: Average loss: 0.0001, Accuracy: 9752/10000 (98%)\n",
            "\n",
            "Train Epoch: 16 [0/60000 (0%)]\tLoss: 0.022009\n",
            "Train Epoch: 16 [10000/60000 (17%)]\tLoss: 0.024749\n",
            "Train Epoch: 16 [20000/60000 (33%)]\tLoss: 0.044255\n",
            "Train Epoch: 16 [30000/60000 (50%)]\tLoss: 0.022847\n",
            "Train Epoch: 16 [40000/60000 (67%)]\tLoss: 0.042013\n",
            "Train Epoch: 16 [50000/60000 (83%)]\tLoss: 0.020671\n",
            "\n",
            "Test set: Average loss: 0.0001, Accuracy: 9780/10000 (98%)\n",
            "\n",
            "Train Epoch: 17 [0/60000 (0%)]\tLoss: 0.012106\n",
            "Train Epoch: 17 [10000/60000 (17%)]\tLoss: 0.019280\n",
            "Train Epoch: 17 [20000/60000 (33%)]\tLoss: 0.027483\n",
            "Train Epoch: 17 [30000/60000 (50%)]\tLoss: 0.007860\n",
            "Train Epoch: 17 [40000/60000 (67%)]\tLoss: 0.005627\n",
            "Train Epoch: 17 [50000/60000 (83%)]\tLoss: 0.009691\n",
            "\n",
            "Test set: Average loss: 0.0001, Accuracy: 9770/10000 (98%)\n",
            "\n",
            "Train Epoch: 18 [0/60000 (0%)]\tLoss: 0.010457\n",
            "Train Epoch: 18 [10000/60000 (17%)]\tLoss: 0.014324\n",
            "Train Epoch: 18 [20000/60000 (33%)]\tLoss: 0.010476\n",
            "Train Epoch: 18 [30000/60000 (50%)]\tLoss: 0.020190\n",
            "Train Epoch: 18 [40000/60000 (67%)]\tLoss: 0.029909\n",
            "Train Epoch: 18 [50000/60000 (83%)]\tLoss: 0.035466\n",
            "\n",
            "Test set: Average loss: 0.0001, Accuracy: 9781/10000 (98%)\n",
            "\n",
            "Train Epoch: 19 [0/60000 (0%)]\tLoss: 0.026286\n",
            "Train Epoch: 19 [10000/60000 (17%)]\tLoss: 0.024831\n",
            "Train Epoch: 19 [20000/60000 (33%)]\tLoss: 0.021769\n",
            "Train Epoch: 19 [30000/60000 (50%)]\tLoss: 0.035229\n",
            "Train Epoch: 19 [40000/60000 (67%)]\tLoss: 0.023050\n",
            "Train Epoch: 19 [50000/60000 (83%)]\tLoss: 0.012696\n",
            "\n",
            "Test set: Average loss: 0.0001, Accuracy: 9779/10000 (98%)\n",
            "\n",
            "Train Epoch: 20 [0/60000 (0%)]\tLoss: 0.010410\n",
            "Train Epoch: 20 [10000/60000 (17%)]\tLoss: 0.013483\n",
            "Train Epoch: 20 [20000/60000 (33%)]\tLoss: 0.010595\n",
            "Train Epoch: 20 [30000/60000 (50%)]\tLoss: 0.032795\n",
            "Train Epoch: 20 [40000/60000 (67%)]\tLoss: 0.022651\n",
            "Train Epoch: 20 [50000/60000 (83%)]\tLoss: 0.014330\n",
            "\n",
            "Test set: Average loss: 0.0001, Accuracy: 9790/10000 (98%)\n",
            "\n"
          ]
        }
      ],
      "source": [
        "wandb.init(\n",
        "      # Set the project where this run will be logged\n",
        "      project=\"NN practice. Dropout\", \n",
        "      # Track hyperparameters and run metadata\n",
        "      config=config,\n",
        "      tags = [\"No Dropout\"]\n",
        "      )\n",
        "for epoch in range(1, config[\"n_epoch\"] + 1):\n",
        "  cur_conv = train(mlp_no_dropout, train_loader, adam_opt, epoch, config[\"log_interval\"])\n",
        "  conv_mlp_no_dropout = conv_mlp_no_dropout + cur_conv\n",
        "  cur_train_loss, cur_test_loss = test(mlp_no_dropout, test_loader, train_loader)\n",
        "  epoch_train_loss.append(cur_train_loss)\n",
        "  epoch_test_loss.append(cur_test_loss)"
      ]
    },
    {
      "cell_type": "code",
      "execution_count": null,
      "id": "21eab052",
      "metadata": {
        "id": "21eab052",
        "outputId": "97f60b2d-2123-445c-ec41-d7b769e6eab4"
      },
      "outputs": [
        {
          "data": {
            "text/plain": [
              "[<matplotlib.lines.Line2D at 0x7f5b575470a0>]"
            ]
          },
          "execution_count": 139,
          "metadata": {},
          "output_type": "execute_result"
        },
        {
          "data": {
            "image/png": "[encoded data removed]",
            "text/plain": [
              "<Figure size 640x480 with 1 Axes>"
            ]
          },
          "metadata": {},
          "output_type": "display_data"
        }
      ],
      "source": [
        "plt.plot(conv_mlp_no_dropout)"
      ]
    },
    {
      "cell_type": "code",
      "execution_count": null,
      "id": "41f9ae69",
      "metadata": {
        "id": "41f9ae69",
        "outputId": "c9014c81-c506-4e27-8e42-e532b1bb0782"
      },
      "outputs": [
        {
          "data": {
            "text/plain": [
              "Text(0.5, 1.0, 'No dropout')"
            ]
          },
          "execution_count": 148,
          "metadata": {},
          "output_type": "execute_result"
        },
        {
          "data": {
            "image/png": "[encoded data removed]",
            "text/plain": [
              "<Figure size 640x480 with 1 Axes>"
            ]
          },
          "metadata": {},
          "output_type": "display_data"
        }
      ],
      "source": [
        "plt.plot(epoch_train_loss, label=\"Train\")\n",
        "plt.plot(epoch_test_loss, label=\"Test\")\n",
        "plt.legend()\n",
        "plt.yscale(\"log\")\n",
        "plt.title(\"No dropout\")"
      ]
    },
    {
      "cell_type": "code",
      "execution_count": null,
      "id": "1f515211",
      "metadata": {
        "id": "1f515211"
      },
      "outputs": [],
      "source": [
        "class RegularizedMLP(nn.Module):\n",
        "  def __init__(self, mlp, num_layers, hidden_dim):\n",
        "    super(RegularizedMLP, self).__init__()\n",
        "    self.layers = [nn.Linear(28 * 28, hidden_dim)]\n",
        "    self.layers += [nn.Linear(hidden_dim, hidden_dim) for i in range(num_layers)]\n",
        "    for l, l0 in zip(self.layers, mlp.layers):\n",
        "      l.weight = copy.deepcopy(l0.weight)\n",
        "      l.bias = copy.deepcopy(l0.bias)\n",
        "    \n",
        "    self.layers = nn.ModuleList(self.layers)\n",
        "    \n",
        "    self.nonlinearity = nn.ReLU()\n",
        "    self.final = nn.Linear(hidden_dim, 10)\n",
        "    self.final.weight = copy.deepcopy(mlp.final.weight)\n",
        "    self.final.bias = copy.deepcopy(mlp.final.bias)\n",
        "    self.dropout = nn.Dropout(0.5)\n",
        "  def forward(self, x):\n",
        "    x = x.view(-1, 28*28)\n",
        "    for l in self.layers:\n",
        "      x = l(x)\n",
        "      x = self.dropout(x)\n",
        "      x = self.nonlinearity(x)\n",
        "    x = self.final(x)\n",
        "    return x"
      ]
    },
    {
      "cell_type": "code",
      "execution_count": null,
      "id": "13d428ee",
      "metadata": {
        "id": "13d428ee"
      },
      "outputs": [],
      "source": [
        "mlp_dropout = RegularizedMLP(initial_mlp_model, 5, 1000)\n",
        "adam_opt_drop = torch.optim.Adam(mlp_dropout.parameters(), lr=config[\"lr\"])\n",
        "conv_mlp_dropout = []"
      ]
    },
    {
      "cell_type": "code",
      "execution_count": null,
      "id": "51c259d6",
      "metadata": {
        "id": "51c259d6",
        "outputId": "3a04b44b-8640-4282-c650-fd2e81310bf2"
      },
      "outputs": [
        {
          "data": {
            "text/plain": [
              "RegularizedMLP(\n",
              "  (layers): ModuleList(\n",
              "    (0): Linear(in_features=784, out_features=1000, bias=True)\n",
              "    (1): Linear(in_features=1000, out_features=1000, bias=True)\n",
              "    (2): Linear(in_features=1000, out_features=1000, bias=True)\n",
              "    (3): Linear(in_features=1000, out_features=1000, bias=True)\n",
              "    (4): Linear(in_features=1000, out_features=1000, bias=True)\n",
              "    (5): Linear(in_features=1000, out_features=1000, bias=True)\n",
              "  )\n",
              "  (nonlinearity): ReLU()\n",
              "  (final): Linear(in_features=1000, out_features=10, bias=True)\n",
              "  (dropout): Dropout(p=0.5, inplace=False)\n",
              ")"
            ]
          },
          "execution_count": 143,
          "metadata": {},
          "output_type": "execute_result"
        }
      ],
      "source": [
        "mlp_dropout"
      ]
    },
    {
      "cell_type": "code",
      "execution_count": null,
      "id": "f21ed627",
      "metadata": {
        "id": "f21ed627"
      },
      "outputs": [],
      "source": [
        "epoch_train_loss_drop = []\n",
        "epoch_test_loss_drop = []"
      ]
    },
    {
      "cell_type": "code",
      "execution_count": null,
      "id": "40ddd75e",
      "metadata": {
        "scrolled": true,
        "id": "40ddd75e"
      },
      "outputs": [],
      "source": [
        "wandb.init(\n",
        "      # Set the project where this run will be logged\n",
        "      project=\"NN practice. Dropout\", \n",
        "      # Track hyperparameters and run metadata\n",
        "      config=config,\n",
        "      tags = [\"Dropout\"]\n",
        "      )\n",
        "for epoch in range(1, config[\"n_epoch\"] + 1):\n",
        "  cur_conv = train(mlp_dropout, train_loader, adam_opt, epoch, config[\"log_interval\"])\n",
        "  conv_mlp_dropout = conv_mlp_dropout + cur_conv\n",
        "  cur_train_loss, cur_test_loss = test(mlp_no_dropout, test_loader, train_loader)\n",
        "  epoch_train_loss.append(cur_train_loss)\n",
        "  epoch_test_loss.append(cur_test_loss)"
      ]
    },
    {
      "cell_type": "code",
      "execution_count": null,
      "id": "e3f5d077",
      "metadata": {
        "id": "e3f5d077",
        "outputId": "1126c9e1-c6b5-4e85-d677-d9055df0ad1f"
      },
      "outputs": [
        {
          "data": {
            "text/plain": [
              "<matplotlib.legend.Legend at 0x7f5b57500100>"
            ]
          },
          "execution_count": 146,
          "metadata": {},
          "output_type": "execute_result"
        },
        {
          "data": {
            "image/png": "[encoded data removed]",
            "text/plain": [
              "<Figure size 640x480 with 1 Axes>"
            ]
          },
          "metadata": {},
          "output_type": "display_data"
        }
      ],
      "source": [
        "plt.plot(conv_mlp_dropout, label=\"Dropout\")\n",
        "plt.plot(conv_mlp_no_dropout, label=\"No dropout\")\n",
        "plt.legend()"
      ]
    },
    {
      "cell_type": "code",
      "execution_count": null,
      "id": "e34c201d",
      "metadata": {
        "id": "e34c201d",
        "outputId": "aa96d086-6582-4802-d0a9-3cb4eac06a3b"
      },
      "outputs": [
        {
          "data": {
            "text/plain": [
              "Text(0.5, 1.0, 'Dropout')"
            ]
          },
          "execution_count": 149,
          "metadata": {},
          "output_type": "execute_result"
        },
        {
          "data": {
            "image/png": "[encoded data removed]",
            "text/plain": [
              "<Figure size 640x480 with 1 Axes>"
            ]
          },
          "metadata": {},
          "output_type": "display_data"
        }
      ],
      "source": [
        "plt.plot(epoch_train_loss_drop, label=\"Train\")\n",
        "plt.plot(epoch_test_loss_drop, label=\"Test\")\n",
        "plt.legend()\n",
        "plt.yscale(\"log\")\n",
        "plt.title(\"Dropout\")"
      ]
    },
    {
      "cell_type": "code",
      "execution_count": null,
      "id": "8518c652",
      "metadata": {
        "id": "8518c652",
        "outputId": "e11263ee-34ed-4633-9be4-07ab1e44835a"
      },
      "outputs": [
        {
          "data": {
            "image/png": "[encoded data removed]",
            "text/plain": [
              "<Figure size 640x480 with 1 Axes>"
            ]
          },
          "metadata": {},
          "output_type": "display_data"
        }
      ],
      "source": [
        "plt.plot(epoch_train_loss_drop, label=\"Train, dropout\")\n",
        "plt.plot(epoch_train_loss, label=\"Train, no dropout\")\n",
        "plt.plot(epoch_test_loss_drop, label=\"Test, dropout\")\n",
        "plt.plot(epoch_test_loss, label=\"Test, no dropout\")\n",
        "plt.legend()\n",
        "plt.yscale(\"log\")"
      ]
    },
    {
      "cell_type": "markdown",
      "id": "dc886d50",
      "metadata": {
        "id": "dc886d50"
      },
      "source": [
        "## Normalization layers\n",
        "\n",
        "- Batch normalization\n",
        "- Layer normalization\n",
        "- Instance normalization\n",
        "- Group normalization\n",
        "\n",
        "**Q**: what is the difference between them?"
      ]
    },
    {
      "cell_type": "code",
      "execution_count": 17,
      "id": "03e463f6",
      "metadata": {
        "id": "03e463f6"
      },
      "outputs": [],
      "source": [
        "x = torch.randn((1000, 3, 32, 32)) + 5\n",
        "bnorm = nn.BatchNorm2d(3)\n",
        "lnorm = nn.LayerNorm((3, 32, 32))\n",
        "inorm = nn.InstanceNorm2d(3)"
      ]
    },
    {
      "cell_type": "code",
      "execution_count": 18,
      "id": "0079c9b2",
      "metadata": {
        "colab": {
          "base_uri": "https://localhost:8080/"
        },
        "id": "0079c9b2",
        "outputId": "7fb85000-477a-434c-8717-4f6b6c3bd2c8"
      },
      "outputs": [
        {
          "output_type": "stream",
          "name": "stdout",
          "text": [
            "torch.Size([1000, 3, 32, 32])\n",
            "5.000944137573242\n",
            "3.4525989178746386e-08\n",
            "torch.Size([1000, 3, 32, 32])\n",
            "5.010355472564697\n",
            "3.157183527946472e-07\n",
            "torch.Size([1000, 3, 32, 32])\n",
            "4.9691996574401855\n",
            "1.30385160446167e-08\n"
          ]
        }
      ],
      "source": [
        "bnorm_res = bnorm(x)\n",
        "print(bnorm_res.shape)\n",
        "print(torch.mean(x[:, 1, :, :]).item())\n",
        "print(torch.mean(bnorm_res[:, 1, :, :]).item())\n",
        "\n",
        "lnorm_res = lnorm(x)\n",
        "print(lnorm_res.shape)\n",
        "print(torch.mean(x[0, :, :, :]).item())\n",
        "print(torch.mean(lnorm_res[0, :, :, :]).item())\n",
        "\n",
        "inorm_res = inorm(x)\n",
        "print(inorm_res.shape)\n",
        "print(torch.mean(x[0, 0, :, :]).item())\n",
        "print(torch.mean(inorm_res[0, 0, :, :]).item())\n",
        "\n",
        "# How to make layer norm and instance norm equal?\n",
        "# print(torch.norm(inorm_res - lnorm_res).item())"
      ]
    },
    {
      "cell_type": "markdown",
      "id": "7685a911",
      "metadata": {
        "id": "7685a911"
      },
      "source": [
        "### Now let us check simple CNN and observe the gain from different normalizations"
      ]
    },
    {
      "cell_type": "code",
      "execution_count": null,
      "id": "47b17966",
      "metadata": {
        "id": "47b17966",
        "outputId": "4ec1c456-5894-4b26-9348-92217512098a"
      },
      "outputs": [
        {
          "name": "stdout",
          "output_type": "stream",
          "text": [
            "Files already downloaded and verified\n"
          ]
        }
      ],
      "source": [
        "batch_size = 1000\n",
        "train_loader = torch.utils.data.DataLoader(datasets.CIFAR10('../data', train=True, download=True,\n",
        "                                           transform=transforms.Compose([\n",
        "                                           transforms.ToTensor(),\n",
        "                                           transforms.Normalize((0.1307,), (0.3081,))\n",
        "                                           ])),\n",
        "                            batch_size=batch_size, shuffle=True)\n",
        "\n",
        "test_loader = torch.utils.data.DataLoader(datasets.CIFAR10('../data', train=False, transform=transforms.Compose([\n",
        "                                       transforms.ToTensor(),\n",
        "                                       transforms.Normalize((0.1307,), (0.3081,))\n",
        "                            ])),\n",
        "                batch_size=10*batch_size, shuffle=True)"
      ]
    },
    {
      "cell_type": "code",
      "execution_count": null,
      "id": "1109ce5c",
      "metadata": {
        "id": "1109ce5c"
      },
      "outputs": [],
      "source": [
        "class SimpleCNN(nn.Module):\n",
        "    def __init__(self):\n",
        "        super(SimpleCNN, self).__init__()\n",
        "        self.conv1 = nn.Conv2d(3, 32, kernel_size=2)\n",
        "        self.conv2 = nn.Conv2d(32, 64, kernel_size=2)\n",
        "        self.conv3 = nn.Conv2d(64, 128, kernel_size=2)\n",
        "        self.conv4 = nn.Conv2d(128, 256, kernel_size=2)\n",
        "\n",
        "        self.fc1 = nn.Linear(256, 256)\n",
        "        self.fc2 = nn.Linear(256, 10)\n",
        "        self.nonlinearity = nn.ReLU()\n",
        "        self.pooling = nn.MaxPool2d(2)\n",
        "\n",
        "    def forward(self, x):\n",
        "        x = self.conv1(x)\n",
        "        x = self.nonlinearity(x)\n",
        "        x = self.pooling(x)\n",
        "\n",
        "        x = self.conv2(x)\n",
        "        x = self.nonlinearity(x)\n",
        "        x = self.pooling(x)\n",
        "\n",
        "        x = self.conv3(x)\n",
        "        x = self.nonlinearity(x)\n",
        "        x = self.pooling(x)\n",
        "        \n",
        "        x = self.conv4(x)\n",
        "        x = self.nonlinearity(x)\n",
        "        x = self.pooling(x)\n",
        "        \n",
        "        x = x.view(-1, 256)\n",
        "        x = self.nonlinearity(self.fc1(x))\n",
        "        x = self.fc2(x)\n",
        "        return x"
      ]
    },
    {
      "cell_type": "code",
      "execution_count": null,
      "id": "02fe9746",
      "metadata": {
        "id": "02fe9746"
      },
      "outputs": [],
      "source": [
        "cnn_no_norm = SimpleCNN().to(device)\n",
        "initial_cnn_model = copy.deepcopy(cnn_no_norm)\n",
        "conv_cnn_no_norm = []\n",
        "lr = 1e-3\n",
        "n_epoch = 20\n",
        "log_interval = 10\n",
        "adam_opt = torch.optim.Adam(cnn_no_norm.parameters(), lr=lr)"
      ]
    },
    {
      "cell_type": "code",
      "execution_count": null,
      "id": "b6a5d17b",
      "metadata": {
        "id": "b6a5d17b"
      },
      "outputs": [],
      "source": [
        "train_cnn_epoch = []\n",
        "test_cnn_epoch = []"
      ]
    },
    {
      "cell_type": "code",
      "execution_count": null,
      "id": "80941c39",
      "metadata": {
        "id": "80941c39",
        "outputId": "4fb975e3-1ecb-4082-b4dc-34e63d36bbb8"
      },
      "outputs": [
        {
          "name": "stdout",
          "output_type": "stream",
          "text": [
            "Train Epoch: 1 [0/50000 (0%)]\tLoss: 2.303577\n",
            "Train Epoch: 1 [10000/50000 (20%)]\tLoss: 2.238654\n",
            "Train Epoch: 1 [20000/50000 (40%)]\tLoss: 2.003931\n",
            "Train Epoch: 1 [30000/50000 (60%)]\tLoss: 1.931326\n",
            "Train Epoch: 1 [40000/50000 (80%)]\tLoss: 1.949337\n",
            "\n",
            "Test set: Average loss: 0.0002, Accuracy: 3447/10000 (34%)\n",
            "\n",
            "Train Epoch: 2 [0/50000 (0%)]\tLoss: 1.827534\n",
            "Train Epoch: 2 [10000/50000 (20%)]\tLoss: 1.770896\n",
            "Train Epoch: 2 [20000/50000 (40%)]\tLoss: 1.737102\n",
            "Train Epoch: 2 [30000/50000 (60%)]\tLoss: 1.636145\n",
            "Train Epoch: 2 [40000/50000 (80%)]\tLoss: 1.694952\n",
            "\n",
            "Test set: Average loss: 0.0002, Accuracy: 3907/10000 (39%)\n",
            "\n",
            "Train Epoch: 3 [0/50000 (0%)]\tLoss: 1.632986\n",
            "Train Epoch: 3 [10000/50000 (20%)]\tLoss: 1.594256\n",
            "Train Epoch: 3 [20000/50000 (40%)]\tLoss: 1.573578\n",
            "Train Epoch: 3 [30000/50000 (60%)]\tLoss: 1.572568\n",
            "Train Epoch: 3 [40000/50000 (80%)]\tLoss: 1.532309\n",
            "\n",
            "Test set: Average loss: 0.0002, Accuracy: 4504/10000 (45%)\n",
            "\n",
            "Train Epoch: 4 [0/50000 (0%)]\tLoss: 1.493656\n",
            "Train Epoch: 4 [10000/50000 (20%)]\tLoss: 1.502983\n",
            "Train Epoch: 4 [20000/50000 (40%)]\tLoss: 1.472166\n",
            "Train Epoch: 4 [30000/50000 (60%)]\tLoss: 1.452958\n",
            "Train Epoch: 4 [40000/50000 (80%)]\tLoss: 1.396139\n",
            "\n",
            "Test set: Average loss: 0.0002, Accuracy: 4591/10000 (46%)\n",
            "\n",
            "Train Epoch: 5 [0/50000 (0%)]\tLoss: 1.505188\n",
            "Train Epoch: 5 [10000/50000 (20%)]\tLoss: 1.428081\n",
            "Train Epoch: 5 [20000/50000 (40%)]\tLoss: 1.361081\n",
            "Train Epoch: 5 [30000/50000 (60%)]\tLoss: 1.354795\n",
            "Train Epoch: 5 [40000/50000 (80%)]\tLoss: 1.357691\n",
            "\n",
            "Test set: Average loss: 0.0001, Accuracy: 4905/10000 (49%)\n",
            "\n",
            "Train Epoch: 6 [0/50000 (0%)]\tLoss: 1.354196\n",
            "Train Epoch: 6 [10000/50000 (20%)]\tLoss: 1.376632\n",
            "Train Epoch: 6 [20000/50000 (40%)]\tLoss: 1.336112\n",
            "Train Epoch: 6 [30000/50000 (60%)]\tLoss: 1.395687\n",
            "Train Epoch: 6 [40000/50000 (80%)]\tLoss: 1.297315\n",
            "\n",
            "Test set: Average loss: 0.0001, Accuracy: 5356/10000 (54%)\n",
            "\n",
            "Train Epoch: 7 [0/50000 (0%)]\tLoss: 1.265282\n",
            "Train Epoch: 7 [10000/50000 (20%)]\tLoss: 1.334109\n",
            "Train Epoch: 7 [20000/50000 (40%)]\tLoss: 1.233052\n",
            "Train Epoch: 7 [30000/50000 (60%)]\tLoss: 1.269267\n",
            "Train Epoch: 7 [40000/50000 (80%)]\tLoss: 1.267109\n",
            "\n",
            "Test set: Average loss: 0.0001, Accuracy: 5427/10000 (54%)\n",
            "\n",
            "Train Epoch: 8 [0/50000 (0%)]\tLoss: 1.236798\n",
            "Train Epoch: 8 [10000/50000 (20%)]\tLoss: 1.244824\n",
            "Train Epoch: 8 [20000/50000 (40%)]\tLoss: 1.251297\n",
            "Train Epoch: 8 [30000/50000 (60%)]\tLoss: 1.285165\n",
            "Train Epoch: 8 [40000/50000 (80%)]\tLoss: 1.233822\n",
            "\n",
            "Test set: Average loss: 0.0001, Accuracy: 5630/10000 (56%)\n",
            "\n",
            "Train Epoch: 9 [0/50000 (0%)]\tLoss: 1.211142\n",
            "Train Epoch: 9 [10000/50000 (20%)]\tLoss: 1.141206\n",
            "Train Epoch: 9 [20000/50000 (40%)]\tLoss: 1.133344\n",
            "Train Epoch: 9 [30000/50000 (60%)]\tLoss: 1.177642\n",
            "Train Epoch: 9 [40000/50000 (80%)]\tLoss: 1.120124\n",
            "\n",
            "Test set: Average loss: 0.0001, Accuracy: 5745/10000 (57%)\n",
            "\n",
            "Train Epoch: 10 [0/50000 (0%)]\tLoss: 1.125916\n",
            "Train Epoch: 10 [10000/50000 (20%)]\tLoss: 1.154365\n",
            "Train Epoch: 10 [20000/50000 (40%)]\tLoss: 1.194572\n",
            "Train Epoch: 10 [30000/50000 (60%)]\tLoss: 1.120760\n",
            "Train Epoch: 10 [40000/50000 (80%)]\tLoss: 1.141598\n",
            "\n",
            "Test set: Average loss: 0.0001, Accuracy: 5925/10000 (59%)\n",
            "\n",
            "Train Epoch: 11 [0/50000 (0%)]\tLoss: 1.028459\n",
            "Train Epoch: 11 [10000/50000 (20%)]\tLoss: 1.091685\n",
            "Train Epoch: 11 [20000/50000 (40%)]\tLoss: 1.069517\n",
            "Train Epoch: 11 [30000/50000 (60%)]\tLoss: 1.075147\n",
            "Train Epoch: 11 [40000/50000 (80%)]\tLoss: 1.097285\n",
            "\n",
            "Test set: Average loss: 0.0001, Accuracy: 6124/10000 (61%)\n",
            "\n",
            "Train Epoch: 12 [0/50000 (0%)]\tLoss: 1.054507\n",
            "Train Epoch: 12 [10000/50000 (20%)]\tLoss: 1.142297\n",
            "Train Epoch: 12 [20000/50000 (40%)]\tLoss: 1.055346\n",
            "Train Epoch: 12 [30000/50000 (60%)]\tLoss: 1.082175\n",
            "Train Epoch: 12 [40000/50000 (80%)]\tLoss: 1.062478\n",
            "\n",
            "Test set: Average loss: 0.0001, Accuracy: 6149/10000 (61%)\n",
            "\n",
            "Train Epoch: 13 [0/50000 (0%)]\tLoss: 1.027703\n",
            "Train Epoch: 13 [10000/50000 (20%)]\tLoss: 1.074508\n",
            "Train Epoch: 13 [20000/50000 (40%)]\tLoss: 1.037542\n",
            "Train Epoch: 13 [30000/50000 (60%)]\tLoss: 1.007374\n",
            "Train Epoch: 13 [40000/50000 (80%)]\tLoss: 1.043260\n",
            "\n",
            "Test set: Average loss: 0.0001, Accuracy: 6249/10000 (62%)\n",
            "\n",
            "Train Epoch: 14 [0/50000 (0%)]\tLoss: 0.967503\n",
            "Train Epoch: 14 [10000/50000 (20%)]\tLoss: 0.950342\n",
            "Train Epoch: 14 [20000/50000 (40%)]\tLoss: 0.954966\n",
            "Train Epoch: 14 [30000/50000 (60%)]\tLoss: 1.017234\n",
            "Train Epoch: 14 [40000/50000 (80%)]\tLoss: 0.934007\n",
            "\n",
            "Test set: Average loss: 0.0001, Accuracy: 6350/10000 (64%)\n",
            "\n",
            "Train Epoch: 15 [0/50000 (0%)]\tLoss: 0.937198\n",
            "Train Epoch: 15 [10000/50000 (20%)]\tLoss: 0.942444\n",
            "Train Epoch: 15 [20000/50000 (40%)]\tLoss: 0.966297\n",
            "Train Epoch: 15 [30000/50000 (60%)]\tLoss: 1.001147\n",
            "Train Epoch: 15 [40000/50000 (80%)]\tLoss: 1.003692\n",
            "\n",
            "Test set: Average loss: 0.0001, Accuracy: 6294/10000 (63%)\n",
            "\n",
            "Train Epoch: 16 [0/50000 (0%)]\tLoss: 0.939728\n",
            "Train Epoch: 16 [10000/50000 (20%)]\tLoss: 0.921042\n",
            "Train Epoch: 16 [20000/50000 (40%)]\tLoss: 0.938256\n",
            "Train Epoch: 16 [30000/50000 (60%)]\tLoss: 0.905937\n",
            "Train Epoch: 16 [40000/50000 (80%)]\tLoss: 0.939800\n",
            "\n",
            "Test set: Average loss: 0.0001, Accuracy: 6529/10000 (65%)\n",
            "\n",
            "Train Epoch: 17 [0/50000 (0%)]\tLoss: 0.885945\n",
            "Train Epoch: 17 [10000/50000 (20%)]\tLoss: 0.881765\n",
            "Train Epoch: 17 [20000/50000 (40%)]\tLoss: 0.842450\n",
            "Train Epoch: 17 [30000/50000 (60%)]\tLoss: 0.928790\n",
            "Train Epoch: 17 [40000/50000 (80%)]\tLoss: 0.833494\n",
            "\n",
            "Test set: Average loss: 0.0001, Accuracy: 6474/10000 (65%)\n",
            "\n",
            "Train Epoch: 18 [0/50000 (0%)]\tLoss: 0.929614\n",
            "Train Epoch: 18 [10000/50000 (20%)]\tLoss: 0.917442\n",
            "Train Epoch: 18 [20000/50000 (40%)]\tLoss: 0.861264\n",
            "Train Epoch: 18 [30000/50000 (60%)]\tLoss: 0.810691\n",
            "Train Epoch: 18 [40000/50000 (80%)]\tLoss: 0.845912\n",
            "\n",
            "Test set: Average loss: 0.0001, Accuracy: 6690/10000 (67%)\n",
            "\n",
            "Train Epoch: 19 [0/50000 (0%)]\tLoss: 0.805076\n",
            "Train Epoch: 19 [10000/50000 (20%)]\tLoss: 0.886737\n",
            "Train Epoch: 19 [20000/50000 (40%)]\tLoss: 0.911894\n",
            "Train Epoch: 19 [30000/50000 (60%)]\tLoss: 0.857125\n",
            "Train Epoch: 19 [40000/50000 (80%)]\tLoss: 0.833093\n",
            "\n",
            "Test set: Average loss: 0.0001, Accuracy: 6565/10000 (66%)\n",
            "\n",
            "Train Epoch: 20 [0/50000 (0%)]\tLoss: 0.845066\n",
            "Train Epoch: 20 [10000/50000 (20%)]\tLoss: 0.792546\n",
            "Train Epoch: 20 [20000/50000 (40%)]\tLoss: 0.834266\n",
            "Train Epoch: 20 [30000/50000 (60%)]\tLoss: 0.814745\n",
            "Train Epoch: 20 [40000/50000 (80%)]\tLoss: 0.864154\n",
            "\n",
            "Test set: Average loss: 0.0001, Accuracy: 6647/10000 (66%)\n",
            "\n"
          ]
        }
      ],
      "source": [
        "for epoch in range(1, n_epoch + 1):\n",
        "  cur_conv = train(cnn_no_norm, train_loader, adam_opt, epoch, log_interval)\n",
        "  conv_cnn_no_norm = conv_cnn_no_norm + cur_conv\n",
        "  cur_train_loss, cur_test_loss = test(cnn_no_norm, test_loader, train_loader)\n",
        "  train_cnn_epoch.append(cur_train_loss)\n",
        "  test_cnn_epoch.append(cur_test_loss)  "
      ]
    },
    {
      "cell_type": "code",
      "execution_count": null,
      "id": "ccc14ba3",
      "metadata": {
        "id": "ccc14ba3",
        "outputId": "b76fa864-8004-48ca-cd06-d26d90519484"
      },
      "outputs": [
        {
          "data": {
            "text/plain": [
              "[<matplotlib.lines.Line2D at 0x7fa624418610>]"
            ]
          },
          "execution_count": 115,
          "metadata": {},
          "output_type": "execute_result"
        },
        {
          "data": {
            "image/png": "[encoded data removed]",
            "text/plain": [
              "<Figure size 640x480 with 1 Axes>"
            ]
          },
          "metadata": {},
          "output_type": "display_data"
        }
      ],
      "source": [
        "plt.plot(conv_cnn_no_norm)"
      ]
    },
    {
      "cell_type": "code",
      "execution_count": null,
      "id": "7850f5aa",
      "metadata": {
        "id": "7850f5aa",
        "outputId": "fb51e394-2dbb-4600-a7ac-6750c931aa6b"
      },
      "outputs": [
        {
          "data": {
            "image/png": "[encoded data removed]",
            "text/plain": [
              "<Figure size 640x480 with 1 Axes>"
            ]
          },
          "metadata": {},
          "output_type": "display_data"
        }
      ],
      "source": [
        "plt.plot(train_cnn_epoch, label=\"Train\")\n",
        "plt.plot(test_cnn_epoch, label=\"Test\")\n",
        "plt.legend()\n",
        "plt.yscale(\"log\")"
      ]
    },
    {
      "cell_type": "code",
      "execution_count": null,
      "id": "d8126dcf",
      "metadata": {
        "id": "d8126dcf"
      },
      "outputs": [],
      "source": [
        "class NormalizedCNN(nn.Module):\n",
        "  def __init__(self, cnn, normalization):\n",
        "    super(NormalizedCNN, self).__init__()\n",
        "    \n",
        "    self.nonlinearity = nn.ReLU()\n",
        "    self.pooling = nn.MaxPool2d(2)\n",
        "    self.conv1 = nn.Conv2d(3, 32, kernel_size=2)\n",
        "    self.conv1.weight = copy.deepcopy(cnn.conv1.weight)\n",
        "    if normalization == \"batch_norm\":\n",
        "        self.norm1 = nn.BatchNorm2d(32)\n",
        "    elif normalization == \"layer_norm\":\n",
        "        self.norm1 = nn.LayerNorm((32, 31, 31))\n",
        "    elif normalization == \"instance_norm\":\n",
        "        self.norm1 = nn.InstanceNorm2d(32)\n",
        "        \n",
        "    self.conv2 = nn.Conv2d(32, 64, kernel_size=2)\n",
        "    self.conv2.weight = copy.deepcopy(cnn.conv2.weight)\n",
        "    if normalization == \"batch_norm\":\n",
        "        self.norm2 = nn.BatchNorm2d(64)\n",
        "    elif normalization == \"layer_norm\":\n",
        "        self.norm2 = nn.LayerNorm((64, 14, 14))\n",
        "    elif normalization == \"instance_norm\":\n",
        "        self.norm2 = nn.InstanceNorm2d(64)\n",
        "    \n",
        "    self.conv3 = nn.Conv2d(64, 128, kernel_size=2)\n",
        "    self.conv3.weight = copy.deepcopy(cnn.conv3.weight)\n",
        "    \n",
        "    if normalization == \"batch_norm\":\n",
        "        self.norm3 = nn.BatchNorm2d(128)\n",
        "    elif normalization == \"layer_norm\":\n",
        "        self.norm3 = nn.LayerNorm((128, 6, 6))\n",
        "    elif normalization == \"instance_norm\":\n",
        "        self.norm3 = nn.InstanceNorm2d(128)\n",
        "        \n",
        "    self.conv4 = nn.Conv2d(128, 256, kernel_size=2)\n",
        "    self.conv4.weight = copy.deepcopy(cnn.conv4.weight)\n",
        "    \n",
        "    if normalization == \"batch_norm\":\n",
        "        self.norm4 = nn.BatchNorm2d(256)\n",
        "    elif normalization == \"layer_norm\":\n",
        "        self.norm4 = nn.LayerNorm((256, 2, 2))\n",
        "    elif normalization == \"instance_norm\":\n",
        "        self.norm4 = nn.InstanceNorm2d(256)\n",
        "        \n",
        "    self.fc1 = nn.Linear(256, 256)\n",
        "    self.fc1.weight = copy.deepcopy(cnn.fc1.weight)\n",
        "    self.fc1.bias = copy.deepcopy(cnn.fc1.bias)\n",
        "    self.fc2 = nn.Linear(256, 10)\n",
        "    self.fc2.weight = copy.deepcopy(cnn.fc2.weight)\n",
        "    self.fc2.bias = copy.deepcopy(cnn.fc2.bias)\n",
        "    \n",
        "    \n",
        "  def forward(self, x):\n",
        "    x = self.conv1(x)\n",
        "    x = self.nonlinearity(x)\n",
        "    x = self.norm1(x)\n",
        "    x = self.pooling(x)\n",
        "\n",
        "    x = self.conv2(x)\n",
        "    x = self.nonlinearity(x)\n",
        "    x = self.norm2(x)\n",
        "    x = self.pooling(x)\n",
        "\n",
        "    x = self.conv3(x)\n",
        "    x = self.nonlinearity(x)\n",
        "    x = self.norm3(x)\n",
        "    x = self.pooling(x)\n",
        "\n",
        "    x = self.conv4(x)\n",
        "    x = self.nonlinearity(x)\n",
        "    x = self.norm4(x)\n",
        "    x = self.pooling(x)\n",
        "\n",
        "    x = x.view(-1, 256)\n",
        "    x = self.nonlinearity(self.fc1(x))\n",
        "    x = self.fc2(x)\n",
        "    return x"
      ]
    },
    {
      "cell_type": "code",
      "execution_count": null,
      "id": "bfa813d1",
      "metadata": {
        "id": "bfa813d1"
      },
      "outputs": [],
      "source": [
        "cnn_layer = NormalizedCNN(initial_cnn_model, \"layer_norm\").to(device)\n",
        "adam_opt_cnn_layer = torch.optim.Adam(cnn_layer.parameters(), lr=lr)\n",
        "conv_cnn_layer = []"
      ]
    },
    {
      "cell_type": "code",
      "execution_count": null,
      "id": "b8a47b5a",
      "metadata": {
        "id": "b8a47b5a",
        "outputId": "d154cd71-584d-47fe-cafc-56144a5924cd"
      },
      "outputs": [
        {
          "data": {
            "text/plain": [
              "NormalizedCNN(\n",
              "  (nonlinearity): ReLU()\n",
              "  (pooling): MaxPool2d(kernel_size=2, stride=2, padding=0, dilation=1, ceil_mode=False)\n",
              "  (conv1): Conv2d(3, 32, kernel_size=(2, 2), stride=(1, 1))\n",
              "  (norm1): LayerNorm((32, 31, 31), eps=1e-05, elementwise_affine=True)\n",
              "  (conv2): Conv2d(32, 64, kernel_size=(2, 2), stride=(1, 1))\n",
              "  (norm2): LayerNorm((64, 14, 14), eps=1e-05, elementwise_affine=True)\n",
              "  (conv3): Conv2d(64, 128, kernel_size=(2, 2), stride=(1, 1))\n",
              "  (norm3): LayerNorm((128, 6, 6), eps=1e-05, elementwise_affine=True)\n",
              "  (conv4): Conv2d(128, 256, kernel_size=(2, 2), stride=(1, 1))\n",
              "  (norm4): LayerNorm((256, 2, 2), eps=1e-05, elementwise_affine=True)\n",
              "  (fc1): Linear(in_features=256, out_features=256, bias=True)\n",
              "  (fc2): Linear(in_features=256, out_features=10, bias=True)\n",
              ")"
            ]
          },
          "execution_count": 111,
          "metadata": {},
          "output_type": "execute_result"
        }
      ],
      "source": [
        "cnn_layer"
      ]
    },
    {
      "cell_type": "code",
      "execution_count": null,
      "id": "72ea4b7e",
      "metadata": {
        "id": "72ea4b7e"
      },
      "outputs": [],
      "source": [
        "epoch_train_loss_layernorm = []\n",
        "epoch_test_loss_layernorm = []"
      ]
    },
    {
      "cell_type": "code",
      "execution_count": null,
      "id": "b34cfd07",
      "metadata": {
        "scrolled": true,
        "id": "b34cfd07",
        "outputId": "eada76a1-93a2-475f-bad5-93b3c06596d8"
      },
      "outputs": [
        {
          "name": "stdout",
          "output_type": "stream",
          "text": [
            "Train Epoch: 1 [0/50000 (0%)]\tLoss: 2.332412\n",
            "Train Epoch: 1 [10000/50000 (20%)]\tLoss: 1.979972\n",
            "Train Epoch: 1 [20000/50000 (40%)]\tLoss: 1.654716\n",
            "Train Epoch: 1 [30000/50000 (60%)]\tLoss: 1.561779\n",
            "Train Epoch: 1 [40000/50000 (80%)]\tLoss: 1.455078\n",
            "\n",
            "Test set: Average loss: 0.0001, Accuracy: 5029/10000 (50%)\n",
            "\n",
            "Train Epoch: 2 [0/50000 (0%)]\tLoss: 1.408213\n",
            "Train Epoch: 2 [10000/50000 (20%)]\tLoss: 1.313400\n",
            "Train Epoch: 2 [20000/50000 (40%)]\tLoss: 1.218631\n",
            "Train Epoch: 2 [30000/50000 (60%)]\tLoss: 1.262448\n",
            "Train Epoch: 2 [40000/50000 (80%)]\tLoss: 1.229643\n",
            "\n",
            "Test set: Average loss: 0.0001, Accuracy: 5675/10000 (57%)\n",
            "\n",
            "Train Epoch: 3 [0/50000 (0%)]\tLoss: 1.117318\n",
            "Train Epoch: 3 [10000/50000 (20%)]\tLoss: 1.129397\n",
            "Train Epoch: 3 [20000/50000 (40%)]\tLoss: 1.043317\n",
            "Train Epoch: 3 [30000/50000 (60%)]\tLoss: 1.057139\n",
            "Train Epoch: 3 [40000/50000 (80%)]\tLoss: 1.018023\n",
            "\n",
            "Test set: Average loss: 0.0001, Accuracy: 6269/10000 (63%)\n",
            "\n",
            "Train Epoch: 4 [0/50000 (0%)]\tLoss: 0.918730\n",
            "Train Epoch: 4 [10000/50000 (20%)]\tLoss: 0.926686\n",
            "Train Epoch: 4 [20000/50000 (40%)]\tLoss: 0.912534\n",
            "Train Epoch: 4 [30000/50000 (60%)]\tLoss: 0.996537\n",
            "Train Epoch: 4 [40000/50000 (80%)]\tLoss: 0.881217\n",
            "\n",
            "Test set: Average loss: 0.0001, Accuracy: 6569/10000 (66%)\n",
            "\n",
            "Train Epoch: 5 [0/50000 (0%)]\tLoss: 0.709464\n",
            "Train Epoch: 5 [10000/50000 (20%)]\tLoss: 0.765381\n",
            "Train Epoch: 5 [20000/50000 (40%)]\tLoss: 0.760973\n",
            "Train Epoch: 5 [30000/50000 (60%)]\tLoss: 0.722927\n",
            "Train Epoch: 5 [40000/50000 (80%)]\tLoss: 0.671969\n",
            "\n",
            "Test set: Average loss: 0.0001, Accuracy: 6705/10000 (67%)\n",
            "\n",
            "Train Epoch: 6 [0/50000 (0%)]\tLoss: 0.684626\n",
            "Train Epoch: 6 [10000/50000 (20%)]\tLoss: 0.607200\n",
            "Train Epoch: 6 [20000/50000 (40%)]\tLoss: 0.682165\n",
            "Train Epoch: 6 [30000/50000 (60%)]\tLoss: 0.647525\n",
            "Train Epoch: 6 [40000/50000 (80%)]\tLoss: 0.652648\n",
            "\n",
            "Test set: Average loss: 0.0001, Accuracy: 6670/10000 (67%)\n",
            "\n",
            "Train Epoch: 7 [0/50000 (0%)]\tLoss: 0.535871\n",
            "Train Epoch: 7 [10000/50000 (20%)]\tLoss: 0.546536\n",
            "Train Epoch: 7 [20000/50000 (40%)]\tLoss: 0.509738\n",
            "Train Epoch: 7 [30000/50000 (60%)]\tLoss: 0.597041\n",
            "Train Epoch: 7 [40000/50000 (80%)]\tLoss: 0.532361\n",
            "\n",
            "Test set: Average loss: 0.0001, Accuracy: 6872/10000 (69%)\n",
            "\n",
            "Train Epoch: 8 [0/50000 (0%)]\tLoss: 0.436663\n",
            "Train Epoch: 8 [10000/50000 (20%)]\tLoss: 0.463819\n",
            "Train Epoch: 8 [20000/50000 (40%)]\tLoss: 0.445495\n",
            "Train Epoch: 8 [30000/50000 (60%)]\tLoss: 0.448091\n",
            "Train Epoch: 8 [40000/50000 (80%)]\tLoss: 0.453551\n",
            "\n",
            "Test set: Average loss: 0.0001, Accuracy: 6903/10000 (69%)\n",
            "\n",
            "Train Epoch: 9 [0/50000 (0%)]\tLoss: 0.361339\n",
            "Train Epoch: 9 [10000/50000 (20%)]\tLoss: 0.335229\n",
            "Train Epoch: 9 [20000/50000 (40%)]\tLoss: 0.319374\n",
            "Train Epoch: 9 [30000/50000 (60%)]\tLoss: 0.373091\n",
            "Train Epoch: 9 [40000/50000 (80%)]\tLoss: 0.420838\n",
            "\n",
            "Test set: Average loss: 0.0001, Accuracy: 6792/10000 (68%)\n",
            "\n",
            "Train Epoch: 10 [0/50000 (0%)]\tLoss: 0.299198\n",
            "Train Epoch: 10 [10000/50000 (20%)]\tLoss: 0.280950\n",
            "Train Epoch: 10 [20000/50000 (40%)]\tLoss: 0.278344\n",
            "Train Epoch: 10 [30000/50000 (60%)]\tLoss: 0.327707\n",
            "Train Epoch: 10 [40000/50000 (80%)]\tLoss: 0.318142\n",
            "\n",
            "Test set: Average loss: 0.0001, Accuracy: 6886/10000 (69%)\n",
            "\n",
            "Train Epoch: 11 [0/50000 (0%)]\tLoss: 0.208331\n",
            "Train Epoch: 11 [10000/50000 (20%)]\tLoss: 0.203635\n",
            "Train Epoch: 11 [20000/50000 (40%)]\tLoss: 0.194447\n",
            "Train Epoch: 11 [30000/50000 (60%)]\tLoss: 0.228470\n",
            "Train Epoch: 11 [40000/50000 (80%)]\tLoss: 0.253739\n",
            "\n",
            "Test set: Average loss: 0.0001, Accuracy: 6885/10000 (69%)\n",
            "\n",
            "Train Epoch: 12 [0/50000 (0%)]\tLoss: 0.160866\n",
            "Train Epoch: 12 [10000/50000 (20%)]\tLoss: 0.131142\n",
            "Train Epoch: 12 [20000/50000 (40%)]\tLoss: 0.153951\n",
            "Train Epoch: 12 [30000/50000 (60%)]\tLoss: 0.159414\n",
            "Train Epoch: 12 [40000/50000 (80%)]\tLoss: 0.171837\n",
            "\n",
            "Test set: Average loss: 0.0001, Accuracy: 6871/10000 (69%)\n",
            "\n",
            "Train Epoch: 13 [0/50000 (0%)]\tLoss: 0.120050\n",
            "Train Epoch: 13 [10000/50000 (20%)]\tLoss: 0.128198\n",
            "Train Epoch: 13 [20000/50000 (40%)]\tLoss: 0.108715\n",
            "Train Epoch: 13 [30000/50000 (60%)]\tLoss: 0.134018\n",
            "Train Epoch: 13 [40000/50000 (80%)]\tLoss: 0.121884\n",
            "\n",
            "Test set: Average loss: 0.0001, Accuracy: 6945/10000 (69%)\n",
            "\n",
            "Train Epoch: 14 [0/50000 (0%)]\tLoss: 0.078992\n",
            "Train Epoch: 14 [10000/50000 (20%)]\tLoss: 0.083882\n",
            "Train Epoch: 14 [20000/50000 (40%)]\tLoss: 0.112418\n",
            "Train Epoch: 14 [30000/50000 (60%)]\tLoss: 0.100272\n",
            "Train Epoch: 14 [40000/50000 (80%)]\tLoss: 0.120706\n",
            "\n",
            "Test set: Average loss: 0.0001, Accuracy: 6900/10000 (69%)\n",
            "\n",
            "Train Epoch: 15 [0/50000 (0%)]\tLoss: 0.051945\n",
            "Train Epoch: 15 [10000/50000 (20%)]\tLoss: 0.053582\n",
            "Train Epoch: 15 [20000/50000 (40%)]\tLoss: 0.061577\n",
            "Train Epoch: 15 [30000/50000 (60%)]\tLoss: 0.053906\n",
            "Train Epoch: 15 [40000/50000 (80%)]\tLoss: 0.073494\n",
            "\n",
            "Test set: Average loss: 0.0001, Accuracy: 6944/10000 (69%)\n",
            "\n",
            "Train Epoch: 16 [0/50000 (0%)]\tLoss: 0.049337\n",
            "Train Epoch: 16 [10000/50000 (20%)]\tLoss: 0.062969\n",
            "Train Epoch: 16 [20000/50000 (40%)]\tLoss: 0.061993\n",
            "Train Epoch: 16 [30000/50000 (60%)]\tLoss: 0.068589\n",
            "Train Epoch: 16 [40000/50000 (80%)]\tLoss: 0.069745\n",
            "\n",
            "Test set: Average loss: 0.0002, Accuracy: 6905/10000 (69%)\n",
            "\n",
            "Train Epoch: 17 [0/50000 (0%)]\tLoss: 0.047447\n",
            "Train Epoch: 17 [10000/50000 (20%)]\tLoss: 0.060446\n",
            "Train Epoch: 17 [20000/50000 (40%)]\tLoss: 0.091323\n",
            "Train Epoch: 17 [30000/50000 (60%)]\tLoss: 0.076560\n",
            "Train Epoch: 17 [40000/50000 (80%)]\tLoss: 0.084739\n",
            "\n",
            "Test set: Average loss: 0.0002, Accuracy: 6838/10000 (68%)\n",
            "\n",
            "Train Epoch: 18 [0/50000 (0%)]\tLoss: 0.058105\n",
            "Train Epoch: 18 [10000/50000 (20%)]\tLoss: 0.053973\n",
            "Train Epoch: 18 [20000/50000 (40%)]\tLoss: 0.057364\n",
            "Train Epoch: 18 [30000/50000 (60%)]\tLoss: 0.050138\n",
            "Train Epoch: 18 [40000/50000 (80%)]\tLoss: 0.059840\n",
            "\n",
            "Test set: Average loss: 0.0002, Accuracy: 6935/10000 (69%)\n",
            "\n",
            "Train Epoch: 19 [0/50000 (0%)]\tLoss: 0.044539\n",
            "Train Epoch: 19 [10000/50000 (20%)]\tLoss: 0.056845\n",
            "Train Epoch: 19 [20000/50000 (40%)]\tLoss: 0.057632\n",
            "Train Epoch: 19 [30000/50000 (60%)]\tLoss: 0.056199\n",
            "Train Epoch: 19 [40000/50000 (80%)]\tLoss: 0.099180\n",
            "\n",
            "Test set: Average loss: 0.0002, Accuracy: 6809/10000 (68%)\n",
            "\n",
            "Train Epoch: 20 [0/50000 (0%)]\tLoss: 0.069291\n",
            "Train Epoch: 20 [10000/50000 (20%)]\tLoss: 0.076025\n",
            "Train Epoch: 20 [20000/50000 (40%)]\tLoss: 0.076932\n",
            "Train Epoch: 20 [30000/50000 (60%)]\tLoss: 0.086726\n",
            "Train Epoch: 20 [40000/50000 (80%)]\tLoss: 0.080033\n",
            "\n",
            "Test set: Average loss: 0.0002, Accuracy: 6788/10000 (68%)\n",
            "\n"
          ]
        }
      ],
      "source": [
        "for epoch in range(1, n_epoch + 1):\n",
        "  cur_conv = train(cnn_layer, train_loader, adam_opt_cnn_layer, epoch, log_interval)\n",
        "  conv_cnn_layer = conv_cnn_layer + cur_conv\n",
        "  cur_train_loss, cur_test_loss = test(cnn_layer, test_loader, train_loader)\n",
        "  epoch_train_loss_layernorm.append(cur_train_loss)\n",
        "  epoch_test_loss_layernorm.append(cur_test_loss)"
      ]
    },
    {
      "cell_type": "code",
      "execution_count": null,
      "id": "24b9cd8a",
      "metadata": {
        "id": "24b9cd8a",
        "outputId": "3c0a2542-cf00-4556-cdf2-4e57720e1aec"
      },
      "outputs": [
        {
          "data": {
            "text/plain": [
              "<matplotlib.legend.Legend at 0x7fa62431a850>"
            ]
          },
          "execution_count": 116,
          "metadata": {},
          "output_type": "execute_result"
        },
        {
          "data": {
            "image/png": "[encoded data removed]",
            "text/plain": [
              "<Figure size 640x480 with 1 Axes>"
            ]
          },
          "metadata": {},
          "output_type": "display_data"
        }
      ],
      "source": [
        "plt.plot(conv_cnn_no_norm, label=\"No norm\")\n",
        "plt.plot(conv_cnn_layer, label=\"Layer norm\")\n",
        "plt.legend()"
      ]
    },
    {
      "cell_type": "code",
      "execution_count": null,
      "id": "9149dd6c",
      "metadata": {
        "id": "9149dd6c",
        "outputId": "b9373863-d572-493b-ec74-5ad30e439824"
      },
      "outputs": [
        {
          "data": {
            "image/png": "[encoded data removed]",
            "text/plain": [
              "<Figure size 640x480 with 1 Axes>"
            ]
          },
          "metadata": {},
          "output_type": "display_data"
        }
      ],
      "source": [
        "plt.plot(train_cnn_epoch, label=\"Train, no norm\")\n",
        "plt.plot(test_cnn_epoch, label=\"Test, no norm\")\n",
        "plt.plot(epoch_train_loss_layernorm, label=\"Train, layer norm\")\n",
        "plt.plot(epoch_test_loss_layernorm, label=\"Test, layer norm\")\n",
        "plt.legend()\n",
        "plt.yscale(\"log\")"
      ]
    },
    {
      "cell_type": "code",
      "execution_count": null,
      "id": "5d48eb64",
      "metadata": {
        "id": "5d48eb64"
      },
      "outputs": [],
      "source": [
        "cnn_batch = NormalizedCNN(initial_cnn_model, \"batch_norm\").to(device)\n",
        "adam_opt_cnn_batch = torch.optim.Adam(cnn_batch.parameters(), lr=lr)\n",
        "conv_cnn_batch = []"
      ]
    },
    {
      "cell_type": "code",
      "execution_count": null,
      "id": "9c6e5ba8",
      "metadata": {
        "id": "9c6e5ba8",
        "outputId": "967b854f-d6ca-4a09-d1d0-bc4176eeb97e"
      },
      "outputs": [
        {
          "data": {
            "text/plain": [
              "NormalizedCNN(\n",
              "  (nonlinearity): ReLU()\n",
              "  (pooling): MaxPool2d(kernel_size=2, stride=2, padding=0, dilation=1, ceil_mode=False)\n",
              "  (conv1): Conv2d(3, 32, kernel_size=(2, 2), stride=(1, 1))\n",
              "  (norm1): BatchNorm2d(32, eps=1e-05, momentum=0.1, affine=True, track_running_stats=True)\n",
              "  (conv2): Conv2d(32, 64, kernel_size=(2, 2), stride=(1, 1))\n",
              "  (norm2): BatchNorm2d(64, eps=1e-05, momentum=0.1, affine=True, track_running_stats=True)\n",
              "  (conv3): Conv2d(64, 128, kernel_size=(2, 2), stride=(1, 1))\n",
              "  (norm3): BatchNorm2d(128, eps=1e-05, momentum=0.1, affine=True, track_running_stats=True)\n",
              "  (conv4): Conv2d(128, 256, kernel_size=(2, 2), stride=(1, 1))\n",
              "  (norm4): BatchNorm2d(256, eps=1e-05, momentum=0.1, affine=True, track_running_stats=True)\n",
              "  (fc1): Linear(in_features=256, out_features=256, bias=True)\n",
              "  (fc2): Linear(in_features=256, out_features=10, bias=True)\n",
              ")"
            ]
          },
          "execution_count": 119,
          "metadata": {},
          "output_type": "execute_result"
        }
      ],
      "source": [
        "cnn_batch"
      ]
    },
    {
      "cell_type": "code",
      "execution_count": null,
      "id": "6be4b37f",
      "metadata": {
        "id": "6be4b37f"
      },
      "outputs": [],
      "source": [
        "epoch_train_loss_batchnorm = []\n",
        "epoch_test_loss_batchnorm = []"
      ]
    },
    {
      "cell_type": "code",
      "execution_count": null,
      "id": "dadf509c",
      "metadata": {
        "scrolled": true,
        "id": "dadf509c",
        "outputId": "2d430394-eb8c-445a-86cc-bd76bcaababd"
      },
      "outputs": [
        {
          "name": "stdout",
          "output_type": "stream",
          "text": [
            "Train Epoch: 1 [0/50000 (0%)]\tLoss: 2.350985\n",
            "Train Epoch: 1 [10000/50000 (20%)]\tLoss: 1.578719\n",
            "Train Epoch: 1 [20000/50000 (40%)]\tLoss: 1.445974\n",
            "Train Epoch: 1 [30000/50000 (60%)]\tLoss: 1.298244\n",
            "Train Epoch: 1 [40000/50000 (80%)]\tLoss: 1.192440\n",
            "\n",
            "Test set: Average loss: 0.0001, Accuracy: 5698/10000 (57%)\n",
            "\n",
            "Train Epoch: 2 [0/50000 (0%)]\tLoss: 1.058559\n",
            "Train Epoch: 2 [10000/50000 (20%)]\tLoss: 0.993570\n",
            "Train Epoch: 2 [20000/50000 (40%)]\tLoss: 0.976708\n",
            "Train Epoch: 2 [30000/50000 (60%)]\tLoss: 0.936752\n",
            "Train Epoch: 2 [40000/50000 (80%)]\tLoss: 0.869766\n",
            "\n",
            "Test set: Average loss: 0.0001, Accuracy: 6629/10000 (66%)\n",
            "\n",
            "Train Epoch: 3 [0/50000 (0%)]\tLoss: 0.796969\n",
            "Train Epoch: 3 [10000/50000 (20%)]\tLoss: 0.806988\n",
            "Train Epoch: 3 [20000/50000 (40%)]\tLoss: 0.794446\n",
            "Train Epoch: 3 [30000/50000 (60%)]\tLoss: 0.765581\n",
            "Train Epoch: 3 [40000/50000 (80%)]\tLoss: 0.788649\n",
            "\n",
            "Test set: Average loss: 0.0001, Accuracy: 6854/10000 (69%)\n",
            "\n",
            "Train Epoch: 4 [0/50000 (0%)]\tLoss: 0.636189\n",
            "Train Epoch: 4 [10000/50000 (20%)]\tLoss: 0.630359\n",
            "Train Epoch: 4 [20000/50000 (40%)]\tLoss: 0.595601\n",
            "Train Epoch: 4 [30000/50000 (60%)]\tLoss: 0.689644\n",
            "Train Epoch: 4 [40000/50000 (80%)]\tLoss: 0.610771\n",
            "\n",
            "Test set: Average loss: 0.0001, Accuracy: 6921/10000 (69%)\n",
            "\n",
            "Train Epoch: 5 [0/50000 (0%)]\tLoss: 0.526556\n",
            "Train Epoch: 5 [10000/50000 (20%)]\tLoss: 0.477217\n",
            "Train Epoch: 5 [20000/50000 (40%)]\tLoss: 0.515310\n",
            "Train Epoch: 5 [30000/50000 (60%)]\tLoss: 0.489156\n",
            "Train Epoch: 5 [40000/50000 (80%)]\tLoss: 0.527388\n",
            "\n",
            "Test set: Average loss: 0.0001, Accuracy: 6991/10000 (70%)\n",
            "\n",
            "Train Epoch: 6 [0/50000 (0%)]\tLoss: 0.387541\n",
            "Train Epoch: 6 [10000/50000 (20%)]\tLoss: 0.376614\n",
            "Train Epoch: 6 [20000/50000 (40%)]\tLoss: 0.401446\n",
            "Train Epoch: 6 [30000/50000 (60%)]\tLoss: 0.409465\n",
            "Train Epoch: 6 [40000/50000 (80%)]\tLoss: 0.428737\n",
            "\n",
            "Test set: Average loss: 0.0001, Accuracy: 7102/10000 (71%)\n",
            "\n",
            "Train Epoch: 7 [0/50000 (0%)]\tLoss: 0.306519\n",
            "Train Epoch: 7 [10000/50000 (20%)]\tLoss: 0.329743\n",
            "Train Epoch: 7 [20000/50000 (40%)]\tLoss: 0.306093\n",
            "Train Epoch: 7 [30000/50000 (60%)]\tLoss: 0.321828\n",
            "Train Epoch: 7 [40000/50000 (80%)]\tLoss: 0.341945\n",
            "\n",
            "Test set: Average loss: 0.0001, Accuracy: 7095/10000 (71%)\n",
            "\n",
            "Train Epoch: 8 [0/50000 (0%)]\tLoss: 0.231075\n",
            "Train Epoch: 8 [10000/50000 (20%)]\tLoss: 0.217989\n",
            "Train Epoch: 8 [20000/50000 (40%)]\tLoss: 0.249842\n",
            "Train Epoch: 8 [30000/50000 (60%)]\tLoss: 0.243693\n",
            "Train Epoch: 8 [40000/50000 (80%)]\tLoss: 0.338734\n",
            "\n",
            "Test set: Average loss: 0.0001, Accuracy: 7031/10000 (70%)\n",
            "\n",
            "Train Epoch: 9 [0/50000 (0%)]\tLoss: 0.176077\n",
            "Train Epoch: 9 [10000/50000 (20%)]\tLoss: 0.211195\n",
            "Train Epoch: 9 [20000/50000 (40%)]\tLoss: 0.214126\n",
            "Train Epoch: 9 [30000/50000 (60%)]\tLoss: 0.218525\n",
            "Train Epoch: 9 [40000/50000 (80%)]\tLoss: 0.186267\n",
            "\n",
            "Test set: Average loss: 0.0001, Accuracy: 7070/10000 (71%)\n",
            "\n",
            "Train Epoch: 10 [0/50000 (0%)]\tLoss: 0.127743\n",
            "Train Epoch: 10 [10000/50000 (20%)]\tLoss: 0.146621\n",
            "Train Epoch: 10 [20000/50000 (40%)]\tLoss: 0.131400\n",
            "Train Epoch: 10 [30000/50000 (60%)]\tLoss: 0.163461\n",
            "Train Epoch: 10 [40000/50000 (80%)]\tLoss: 0.154671\n",
            "\n",
            "Test set: Average loss: 0.0001, Accuracy: 7115/10000 (71%)\n",
            "\n",
            "Train Epoch: 11 [0/50000 (0%)]\tLoss: 0.106207\n",
            "Train Epoch: 11 [10000/50000 (20%)]\tLoss: 0.099794\n",
            "Train Epoch: 11 [20000/50000 (40%)]\tLoss: 0.091402\n",
            "Train Epoch: 11 [30000/50000 (60%)]\tLoss: 0.086862\n",
            "Train Epoch: 11 [40000/50000 (80%)]\tLoss: 0.100401\n",
            "\n",
            "Test set: Average loss: 0.0001, Accuracy: 7080/10000 (71%)\n",
            "\n",
            "Train Epoch: 12 [0/50000 (0%)]\tLoss: 0.080524\n",
            "Train Epoch: 12 [10000/50000 (20%)]\tLoss: 0.066597\n",
            "Train Epoch: 12 [20000/50000 (40%)]\tLoss: 0.069794\n",
            "Train Epoch: 12 [30000/50000 (60%)]\tLoss: 0.075147\n",
            "Train Epoch: 12 [40000/50000 (80%)]\tLoss: 0.081190\n",
            "\n",
            "Test set: Average loss: 0.0001, Accuracy: 7086/10000 (71%)\n",
            "\n",
            "Train Epoch: 13 [0/50000 (0%)]\tLoss: 0.038224\n",
            "Train Epoch: 13 [10000/50000 (20%)]\tLoss: 0.054646\n",
            "Train Epoch: 13 [20000/50000 (40%)]\tLoss: 0.082070\n",
            "Train Epoch: 13 [30000/50000 (60%)]\tLoss: 0.066389\n",
            "Train Epoch: 13 [40000/50000 (80%)]\tLoss: 0.088738\n",
            "\n",
            "Test set: Average loss: 0.0002, Accuracy: 7035/10000 (70%)\n",
            "\n",
            "Train Epoch: 14 [0/50000 (0%)]\tLoss: 0.052780\n",
            "Train Epoch: 14 [10000/50000 (20%)]\tLoss: 0.062232\n",
            "Train Epoch: 14 [20000/50000 (40%)]\tLoss: 0.083489\n",
            "Train Epoch: 14 [30000/50000 (60%)]\tLoss: 0.073606\n",
            "Train Epoch: 14 [40000/50000 (80%)]\tLoss: 0.078202\n",
            "\n",
            "Test set: Average loss: 0.0002, Accuracy: 7053/10000 (71%)\n",
            "\n",
            "Train Epoch: 15 [0/50000 (0%)]\tLoss: 0.043180\n",
            "Train Epoch: 15 [10000/50000 (20%)]\tLoss: 0.051919\n",
            "Train Epoch: 15 [20000/50000 (40%)]\tLoss: 0.060190\n",
            "Train Epoch: 15 [30000/50000 (60%)]\tLoss: 0.073728\n",
            "Train Epoch: 15 [40000/50000 (80%)]\tLoss: 0.085780\n",
            "\n",
            "Test set: Average loss: 0.0002, Accuracy: 7082/10000 (71%)\n",
            "\n",
            "Train Epoch: 16 [0/50000 (0%)]\tLoss: 0.047754\n",
            "Train Epoch: 16 [10000/50000 (20%)]\tLoss: 0.046154\n",
            "Train Epoch: 16 [20000/50000 (40%)]\tLoss: 0.058319\n",
            "Train Epoch: 16 [30000/50000 (60%)]\tLoss: 0.050839\n",
            "Train Epoch: 16 [40000/50000 (80%)]\tLoss: 0.068059\n",
            "\n",
            "Test set: Average loss: 0.0002, Accuracy: 7020/10000 (70%)\n",
            "\n",
            "Train Epoch: 17 [0/50000 (0%)]\tLoss: 0.047166\n",
            "Train Epoch: 17 [10000/50000 (20%)]\tLoss: 0.059253\n",
            "Train Epoch: 17 [20000/50000 (40%)]\tLoss: 0.042028\n",
            "Train Epoch: 17 [30000/50000 (60%)]\tLoss: 0.054802\n",
            "Train Epoch: 17 [40000/50000 (80%)]\tLoss: 0.062182\n",
            "\n",
            "Test set: Average loss: 0.0002, Accuracy: 7122/10000 (71%)\n",
            "\n",
            "Train Epoch: 18 [0/50000 (0%)]\tLoss: 0.050425\n",
            "Train Epoch: 18 [10000/50000 (20%)]\tLoss: 0.042657\n",
            "Train Epoch: 18 [20000/50000 (40%)]\tLoss: 0.041336\n",
            "Train Epoch: 18 [30000/50000 (60%)]\tLoss: 0.051060\n",
            "Train Epoch: 18 [40000/50000 (80%)]\tLoss: 0.055470\n",
            "\n",
            "Test set: Average loss: 0.0002, Accuracy: 7118/10000 (71%)\n",
            "\n",
            "Train Epoch: 19 [0/50000 (0%)]\tLoss: 0.037028\n",
            "Train Epoch: 19 [10000/50000 (20%)]\tLoss: 0.051743\n",
            "Train Epoch: 19 [20000/50000 (40%)]\tLoss: 0.035496\n",
            "Train Epoch: 19 [30000/50000 (60%)]\tLoss: 0.044581\n",
            "Train Epoch: 19 [40000/50000 (80%)]\tLoss: 0.070411\n",
            "\n",
            "Test set: Average loss: 0.0002, Accuracy: 7066/10000 (71%)\n",
            "\n",
            "Train Epoch: 20 [0/50000 (0%)]\tLoss: 0.050238\n",
            "Train Epoch: 20 [10000/50000 (20%)]\tLoss: 0.055058\n",
            "Train Epoch: 20 [20000/50000 (40%)]\tLoss: 0.045612\n",
            "Train Epoch: 20 [30000/50000 (60%)]\tLoss: 0.043026\n",
            "Train Epoch: 20 [40000/50000 (80%)]\tLoss: 0.067183\n",
            "\n",
            "Test set: Average loss: 0.0002, Accuracy: 7107/10000 (71%)\n",
            "\n"
          ]
        }
      ],
      "source": [
        "for epoch in range(1, n_epoch + 1):\n",
        "  cur_conv = train(cnn_batch, train_loader, adam_opt_cnn_batch, epoch, log_interval)\n",
        "  conv_cnn_batch = conv_cnn_batch + cur_conv\n",
        "  cur_train_loss, cur_test_loss = test(cnn_batch, test_loader, train_loader)\n",
        "  epoch_train_loss_batchnorm.append(cur_train_loss)\n",
        "  epoch_test_loss_batchnorm.append(cur_test_loss)"
      ]
    },
    {
      "cell_type": "code",
      "execution_count": null,
      "id": "fd3ef756",
      "metadata": {
        "id": "fd3ef756",
        "outputId": "76357ce4-b1ea-45fe-866f-89079fbe5314"
      },
      "outputs": [
        {
          "data": {
            "text/plain": [
              "<matplotlib.legend.Legend at 0x7fa6242d7a30>"
            ]
          },
          "execution_count": 123,
          "metadata": {},
          "output_type": "execute_result"
        },
        {
          "data": {
            "image/png": "[encoded data removed]",
            "text/plain": [
              "<Figure size 640x480 with 1 Axes>"
            ]
          },
          "metadata": {},
          "output_type": "display_data"
        }
      ],
      "source": [
        "plt.plot(conv_cnn_no_norm, label=\"No norm\")\n",
        "plt.plot(conv_cnn_layer, label=\"Layer norm\")\n",
        "plt.plot(conv_cnn_batch, label=\"Batch norm\")\n",
        "plt.yscale(\"log\")\n",
        "plt.legend()"
      ]
    },
    {
      "cell_type": "code",
      "execution_count": null,
      "id": "5f94f437",
      "metadata": {
        "id": "5f94f437",
        "outputId": "95429772-985e-4382-eb80-498dbf868199"
      },
      "outputs": [
        {
          "data": {
            "image/png": "[encoded data removed]",
            "text/plain": [
              "<Figure size 640x480 with 1 Axes>"
            ]
          },
          "metadata": {},
          "output_type": "display_data"
        }
      ],
      "source": [
        "plt.plot(train_cnn_epoch, label=\"Train, no norm\")\n",
        "plt.plot(test_cnn_epoch, label=\"Test, no norm\")\n",
        "plt.plot(epoch_train_loss_layernorm, label=\"Train, layer norm\")\n",
        "plt.plot(epoch_test_loss_layernorm, label=\"Test, layer norm\")\n",
        "plt.plot(epoch_train_loss_batchnorm, label=\"Train, batch norm\")\n",
        "plt.plot(epoch_test_loss_batchnorm, label=\"Test, batch norm\")\n",
        "plt.legend()\n",
        "plt.yscale(\"log\")"
      ]
    }
  ],
  "metadata": {
    "kernelspec": {
      "display_name": "Python 3 (ipykernel)",
      "language": "python",
      "name": "python3"
    },
    "language_info": {
      "codemirror_mode": {
        "name": "ipython",
        "version": 3
      },
      "file_extension": ".py",
      "mimetype": "text/x-python",
      "name": "python",
      "nbconvert_exporter": "python",
      "pygments_lexer": "ipython3",
      "version": "3.8.10"
    },
    "colab": {
      "provenance": []
    },
    "accelerator": "GPU",
    "gpuClass": "standard",
    "widgets": {
      "application/vnd.jupyter.widget-state+json": {
        "a9b259fd21334cef9c6a15094b587706": {
          "model_module": "@jupyter-widgets/controls",
          "model_name": "HBoxModel",
          "model_module_version": "1.5.0",
          "state": {
            "_dom_classes": [],
            "_model_module": "@jupyter-widgets/controls",
            "_model_module_version": "1.5.0",
            "_model_name": "HBoxModel",
            "_view_count": null,
            "_view_module": "@jupyter-widgets/controls",
            "_view_module_version": "1.5.0",
            "_view_name": "HBoxView",
            "box_style": "",
            "children": [
              "IPY_MODEL_f1bc6b4bca8f463e9a0f8c6c06ee2231",
              "IPY_MODEL_c32f88131ce7417c83fbe34de3a9b2a9",
              "IPY_MODEL_3f885b2b34c546ed99257fcbd3502d61"
            ],
            "layout": "IPY_MODEL_851aaa65665f4599b217cdc7b6f179df"
          }
        },
        "f1bc6b4bca8f463e9a0f8c6c06ee2231": {
          "model_module": "@jupyter-widgets/controls",
          "model_name": "HTMLModel",
          "model_module_version": "1.5.0",
          "state": {
            "_dom_classes": [],
            "_model_module": "@jupyter-widgets/controls",
            "_model_module_version": "1.5.0",
            "_model_name": "HTMLModel",
            "_view_count": null,
            "_view_module": "@jupyter-widgets/controls",
            "_view_module_version": "1.5.0",
            "_view_name": "HTMLView",
            "description": "",
            "description_tooltip": null,
            "layout": "IPY_MODEL_6aa47870a67b4600a80863865c70f902",
            "placeholder": "​",
            "style": "IPY_MODEL_b5a008397ffc4297937ab302fab67f34",
            "value": "100%"
          }
        },
        "c32f88131ce7417c83fbe34de3a9b2a9": {
          "model_module": "@jupyter-widgets/controls",
          "model_name": "FloatProgressModel",
          "model_module_version": "1.5.0",
          "state": {
            "_dom_classes": [],
            "_model_module": "@jupyter-widgets/controls",
            "_model_module_version": "1.5.0",
            "_model_name": "FloatProgressModel",
            "_view_count": null,
            "_view_module": "@jupyter-widgets/controls",
            "_view_module_version": "1.5.0",
            "_view_name": "ProgressView",
            "bar_style": "success",
            "description": "",
            "description_tooltip": null,
            "layout": "IPY_MODEL_3f8bc06225e3454a98145c5f9fbb2434",
            "max": 9912422,
            "min": 0,
            "orientation": "horizontal",
            "style": "IPY_MODEL_b2d59d6f38c94a9899107dad087449d8",
            "value": 9912422
          }
        },
        "3f885b2b34c546ed99257fcbd3502d61": {
          "model_module": "@jupyter-widgets/controls",
          "model_name": "HTMLModel",
          "model_module_version": "1.5.0",
          "state": {
            "_dom_classes": [],
            "_model_module": "@jupyter-widgets/controls",
            "_model_module_version": "1.5.0",
            "_model_name": "HTMLModel",
            "_view_count": null,
            "_view_module": "@jupyter-widgets/controls",
            "_view_module_version": "1.5.0",
            "_view_name": "HTMLView",
            "description": "",
            "description_tooltip": null,
            "layout": "IPY_MODEL_76bc0639e95d4c0f9283f1b83217c0b7",
            "placeholder": "​",
            "style": "IPY_MODEL_394163f60bc749a7861d23260f0954cc",
            "value": " 9912422/9912422 [00:00&lt;00:00, 109716394.88it/s]"
          }
        },
        "851aaa65665f4599b217cdc7b6f179df": {
          "model_module": "@jupyter-widgets/base",
          "model_name": "LayoutModel",
          "model_module_version": "1.2.0",
          "state": {
            "_model_module": "@jupyter-widgets/base",
            "_model_module_version": "1.2.0",
            "_model_name": "LayoutModel",
            "_view_count": null,
            "_view_module": "@jupyter-widgets/base",
            "_view_module_version": "1.2.0",
            "_view_name": "LayoutView",
            "align_content": null,
            "align_items": null,
            "align_self": null,
            "border": null,
            "bottom": null,
            "display": null,
            "flex": null,
            "flex_flow": null,
            "grid_area": null,
            "grid_auto_columns": null,
            "grid_auto_flow": null,
            "grid_auto_rows": null,
            "grid_column": null,
            "grid_gap": null,
            "grid_row": null,
            "grid_template_areas": null,
            "grid_template_columns": null,
            "grid_template_rows": null,
            "height": null,
            "justify_content": null,
            "justify_items": null,
            "left": null,
            "margin": null,
            "max_height": null,
            "max_width": null,
            "min_height": null,
            "min_width": null,
            "object_fit": null,
            "object_position": null,
            "order": null,
            "overflow": null,
            "overflow_x": null,
            "overflow_y": null,
            "padding": null,
            "right": null,
            "top": null,
            "visibility": null,
            "width": null
          }
        },
        "6aa47870a67b4600a80863865c70f902": {
          "model_module": "@jupyter-widgets/base",
          "model_name": "LayoutModel",
          "model_module_version": "1.2.0",
          "state": {
            "_model_module": "@jupyter-widgets/base",
            "_model_module_version": "1.2.0",
            "_model_name": "LayoutModel",
            "_view_count": null,
            "_view_module": "@jupyter-widgets/base",
            "_view_module_version": "1.2.0",
            "_view_name": "LayoutView",
            "align_content": null,
            "align_items": null,
            "align_self": null,
            "border": null,
            "bottom": null,
            "display": null,
            "flex": null,
            "flex_flow": null,
            "grid_area": null,
            "grid_auto_columns": null,
            "grid_auto_flow": null,
            "grid_auto_rows": null,
            "grid_column": null,
            "grid_gap": null,
            "grid_row": null,
            "grid_template_areas": null,
            "grid_template_columns": null,
            "grid_template_rows": null,
            "height": null,
            "justify_content": null,
            "justify_items": null,
            "left": null,
            "margin": null,
            "max_height": null,
            "max_width": null,
            "min_height": null,
            "min_width": null,
            "object_fit": null,
            "object_position": null,
            "order": null,
            "overflow": null,
            "overflow_x": null,
            "overflow_y": null,
            "padding": null,
            "right": null,
            "top": null,
            "visibility": null,
            "width": null
          }
        },
        "b5a008397ffc4297937ab302fab67f34": {
          "model_module": "@jupyter-widgets/controls",
          "model_name": "DescriptionStyleModel",
          "model_module_version": "1.5.0",
          "state": {
            "_model_module": "@jupyter-widgets/controls",
            "_model_module_version": "1.5.0",
            "_model_name": "DescriptionStyleModel",
            "_view_count": null,
            "_view_module": "@jupyter-widgets/base",
            "_view_module_version": "1.2.0",
            "_view_name": "StyleView",
            "description_width": ""
          }
        },
        "3f8bc06225e3454a98145c5f9fbb2434": {
          "model_module": "@jupyter-widgets/base",
          "model_name": "LayoutModel",
          "model_module_version": "1.2.0",
          "state": {
            "_model_module": "@jupyter-widgets/base",
            "_model_module_version": "1.2.0",
            "_model_name": "LayoutModel",
            "_view_count": null,
            "_view_module": "@jupyter-widgets/base",
            "_view_module_version": "1.2.0",
            "_view_name": "LayoutView",
            "align_content": null,
            "align_items": null,
            "align_self": null,
            "border": null,
            "bottom": null,
            "display": null,
            "flex": null,
            "flex_flow": null,
            "grid_area": null,
            "grid_auto_columns": null,
            "grid_auto_flow": null,
            "grid_auto_rows": null,
            "grid_column": null,
            "grid_gap": null,
            "grid_row": null,
            "grid_template_areas": null,
            "grid_template_columns": null,
            "grid_template_rows": null,
            "height": null,
            "justify_content": null,
            "justify_items": null,
            "left": null,
            "margin": null,
            "max_height": null,
            "max_width": null,
            "min_height": null,
            "min_width": null,
            "object_fit": null,
            "object_position": null,
            "order": null,
            "overflow": null,
            "overflow_x": null,
            "overflow_y": null,
            "padding": null,
            "right": null,
            "top": null,
            "visibility": null,
            "width": null
          }
        },
        "b2d59d6f38c94a9899107dad087449d8": {
          "model_module": "@jupyter-widgets/controls",
          "model_name": "ProgressStyleModel",
          "model_module_version": "1.5.0",
          "state": {
            "_model_module": "@jupyter-widgets/controls",
            "_model_module_version": "1.5.0",
            "_model_name": "ProgressStyleModel",
            "_view_count": null,
            "_view_module": "@jupyter-widgets/base",
            "_view_module_version": "1.2.0",
            "_view_name": "StyleView",
            "bar_color": null,
            "description_width": ""
          }
        },
        "76bc0639e95d4c0f9283f1b83217c0b7": {
          "model_module": "@jupyter-widgets/base",
          "model_name": "LayoutModel",
          "model_module_version": "1.2.0",
          "state": {
            "_model_module": "@jupyter-widgets/base",
            "_model_module_version": "1.2.0",
            "_model_name": "LayoutModel",
            "_view_count": null,
            "_view_module": "@jupyter-widgets/base",
            "_view_module_version": "1.2.0",
            "_view_name": "LayoutView",
            "align_content": null,
            "align_items": null,
            "align_self": null,
            "border": null,
            "bottom": null,
            "display": null,
            "flex": null,
            "flex_flow": null,
            "grid_area": null,
            "grid_auto_columns": null,
            "grid_auto_flow": null,
            "grid_auto_rows": null,
            "grid_column": null,
            "grid_gap": null,
            "grid_row": null,
            "grid_template_areas": null,
            "grid_template_columns": null,
            "grid_template_rows": null,
            "height": null,
            "justify_content": null,
            "justify_items": null,
            "left": null,
            "margin": null,
            "max_height": null,
            "max_width": null,
            "min_height": null,
            "min_width": null,
            "object_fit": null,
            "object_position": null,
            "order": null,
            "overflow": null,
            "overflow_x": null,
            "overflow_y": null,
            "padding": null,
            "right": null,
            "top": null,
            "visibility": null,
            "width": null
          }
        },
        "394163f60bc749a7861d23260f0954cc": {
          "model_module": "@jupyter-widgets/controls",
          "model_name": "DescriptionStyleModel",
          "model_module_version": "1.5.0",
          "state": {
            "_model_module": "@jupyter-widgets/controls",
            "_model_module_version": "1.5.0",
            "_model_name": "DescriptionStyleModel",
            "_view_count": null,
            "_view_module": "@jupyter-widgets/base",
            "_view_module_version": "1.2.0",
            "_view_name": "StyleView",
            "description_width": ""
          }
        },
        "988d236eb1f14936b4e5f1182360dd1a": {
          "model_module": "@jupyter-widgets/controls",
          "model_name": "HBoxModel",
          "model_module_version": "1.5.0",
          "state": {
            "_dom_classes": [],
            "_model_module": "@jupyter-widgets/controls",
            "_model_module_version": "1.5.0",
            "_model_name": "HBoxModel",
            "_view_count": null,
            "_view_module": "@jupyter-widgets/controls",
            "_view_module_version": "1.5.0",
            "_view_name": "HBoxView",
            "box_style": "",
            "children": [
              "IPY_MODEL_cb4a6d719cbb4da3ad91621e8a838250",
              "IPY_MODEL_dc73530c83744167bd25b05b417e28a0",
              "IPY_MODEL_f2e0e812b5ea4b7795b8978be056c82e"
            ],
            "layout": "IPY_MODEL_b6e84644c9ae46ff87abf7afa53fc88c"
          }
        },
        "cb4a6d719cbb4da3ad91621e8a838250": {
          "model_module": "@jupyter-widgets/controls",
          "model_name": "HTMLModel",
          "model_module_version": "1.5.0",
          "state": {
            "_dom_classes": [],
            "_model_module": "@jupyter-widgets/controls",
            "_model_module_version": "1.5.0",
            "_model_name": "HTMLModel",
            "_view_count": null,
            "_view_module": "@jupyter-widgets/controls",
            "_view_module_version": "1.5.0",
            "_view_name": "HTMLView",
            "description": "",
            "description_tooltip": null,
            "layout": "IPY_MODEL_25b89ea96ce743b48885db0a4043be63",
            "placeholder": "​",
            "style": "IPY_MODEL_f2b5e6132c3d4c25bb0013468decd49d",
            "value": "100%"
          }
        },
        "dc73530c83744167bd25b05b417e28a0": {
          "model_module": "@jupyter-widgets/controls",
          "model_name": "FloatProgressModel",
          "model_module_version": "1.5.0",
          "state": {
            "_dom_classes": [],
            "_model_module": "@jupyter-widgets/controls",
            "_model_module_version": "1.5.0",
            "_model_name": "FloatProgressModel",
            "_view_count": null,
            "_view_module": "@jupyter-widgets/controls",
            "_view_module_version": "1.5.0",
            "_view_name": "ProgressView",
            "bar_style": "success",
            "description": "",
            "description_tooltip": null,
            "layout": "IPY_MODEL_506ddc0ae32d46069ebb0b01072b7315",
            "max": 28881,
            "min": 0,
            "orientation": "horizontal",
            "style": "IPY_MODEL_14299d1b86dd4bc282ce2839149bb164",
            "value": 28881
          }
        },
        "f2e0e812b5ea4b7795b8978be056c82e": {
          "model_module": "@jupyter-widgets/controls",
          "model_name": "HTMLModel",
          "model_module_version": "1.5.0",
          "state": {
            "_dom_classes": [],
            "_model_module": "@jupyter-widgets/controls",
            "_model_module_version": "1.5.0",
            "_model_name": "HTMLModel",
            "_view_count": null,
            "_view_module": "@jupyter-widgets/controls",
            "_view_module_version": "1.5.0",
            "_view_name": "HTMLView",
            "description": "",
            "description_tooltip": null,
            "layout": "IPY_MODEL_98ba5ea41d3f44bab99e7afc217b8510",
            "placeholder": "​",
            "style": "IPY_MODEL_1e0515b3ad2648eea23b7eb28292faa4",
            "value": " 28881/28881 [00:00&lt;00:00, 1854780.18it/s]"
          }
        },
        "b6e84644c9ae46ff87abf7afa53fc88c": {
          "model_module": "@jupyter-widgets/base",
          "model_name": "LayoutModel",
          "model_module_version": "1.2.0",
          "state": {
            "_model_module": "@jupyter-widgets/base",
            "_model_module_version": "1.2.0",
            "_model_name": "LayoutModel",
            "_view_count": null,
            "_view_module": "@jupyter-widgets/base",
            "_view_module_version": "1.2.0",
            "_view_name": "LayoutView",
            "align_content": null,
            "align_items": null,
            "align_self": null,
            "border": null,
            "bottom": null,
            "display": null,
            "flex": null,
            "flex_flow": null,
            "grid_area": null,
            "grid_auto_columns": null,
            "grid_auto_flow": null,
            "grid_auto_rows": null,
            "grid_column": null,
            "grid_gap": null,
            "grid_row": null,
            "grid_template_areas": null,
            "grid_template_columns": null,
            "grid_template_rows": null,
            "height": null,
            "justify_content": null,
            "justify_items": null,
            "left": null,
            "margin": null,
            "max_height": null,
            "max_width": null,
            "min_height": null,
            "min_width": null,
            "object_fit": null,
            "object_position": null,
            "order": null,
            "overflow": null,
            "overflow_x": null,
            "overflow_y": null,
            "padding": null,
            "right": null,
            "top": null,
            "visibility": null,
            "width": null
          }
        },
        "25b89ea96ce743b48885db0a4043be63": {
          "model_module": "@jupyter-widgets/base",
          "model_name": "LayoutModel",
          "model_module_version": "1.2.0",
          "state": {
            "_model_module": "@jupyter-widgets/base",
            "_model_module_version": "1.2.0",
            "_model_name": "LayoutModel",
            "_view_count": null,
            "_view_module": "@jupyter-widgets/base",
            "_view_module_version": "1.2.0",
            "_view_name": "LayoutView",
            "align_content": null,
            "align_items": null,
            "align_self": null,
            "border": null,
            "bottom": null,
            "display": null,
            "flex": null,
            "flex_flow": null,
            "grid_area": null,
            "grid_auto_columns": null,
            "grid_auto_flow": null,
            "grid_auto_rows": null,
            "grid_column": null,
            "grid_gap": null,
            "grid_row": null,
            "grid_template_areas": null,
            "grid_template_columns": null,
            "grid_template_rows": null,
            "height": null,
            "justify_content": null,
            "justify_items": null,
            "left": null,
            "margin": null,
            "max_height": null,
            "max_width": null,
            "min_height": null,
            "min_width": null,
            "object_fit": null,
            "object_position": null,
            "order": null,
            "overflow": null,
            "overflow_x": null,
            "overflow_y": null,
            "padding": null,
            "right": null,
            "top": null,
            "visibility": null,
            "width": null
          }
        },
        "f2b5e6132c3d4c25bb0013468decd49d": {
          "model_module": "@jupyter-widgets/controls",
          "model_name": "DescriptionStyleModel",
          "model_module_version": "1.5.0",
          "state": {
            "_model_module": "@jupyter-widgets/controls",
            "_model_module_version": "1.5.0",
            "_model_name": "DescriptionStyleModel",
            "_view_count": null,
            "_view_module": "@jupyter-widgets/base",
            "_view_module_version": "1.2.0",
            "_view_name": "StyleView",
            "description_width": ""
          }
        },
        "506ddc0ae32d46069ebb0b01072b7315": {
          "model_module": "@jupyter-widgets/base",
          "model_name": "LayoutModel",
          "model_module_version": "1.2.0",
          "state": {
            "_model_module": "@jupyter-widgets/base",
            "_model_module_version": "1.2.0",
            "_model_name": "LayoutModel",
            "_view_count": null,
            "_view_module": "@jupyter-widgets/base",
            "_view_module_version": "1.2.0",
            "_view_name": "LayoutView",
            "align_content": null,
            "align_items": null,
            "align_self": null,
            "border": null,
            "bottom": null,
            "display": null,
            "flex": null,
            "flex_flow": null,
            "grid_area": null,
            "grid_auto_columns": null,
            "grid_auto_flow": null,
            "grid_auto_rows": null,
            "grid_column": null,
            "grid_gap": null,
            "grid_row": null,
            "grid_template_areas": null,
            "grid_template_columns": null,
            "grid_template_rows": null,
            "height": null,
            "justify_content": null,
            "justify_items": null,
            "left": null,
            "margin": null,
            "max_height": null,
            "max_width": null,
            "min_height": null,
            "min_width": null,
            "object_fit": null,
            "object_position": null,
            "order": null,
            "overflow": null,
            "overflow_x": null,
            "overflow_y": null,
            "padding": null,
            "right": null,
            "top": null,
            "visibility": null,
            "width": null
          }
        },
        "14299d1b86dd4bc282ce2839149bb164": {
          "model_module": "@jupyter-widgets/controls",
          "model_name": "ProgressStyleModel",
          "model_module_version": "1.5.0",
          "state": {
            "_model_module": "@jupyter-widgets/controls",
            "_model_module_version": "1.5.0",
            "_model_name": "ProgressStyleModel",
            "_view_count": null,
            "_view_module": "@jupyter-widgets/base",
            "_view_module_version": "1.2.0",
            "_view_name": "StyleView",
            "bar_color": null,
            "description_width": ""
          }
        },
        "98ba5ea41d3f44bab99e7afc217b8510": {
          "model_module": "@jupyter-widgets/base",
          "model_name": "LayoutModel",
          "model_module_version": "1.2.0",
          "state": {
            "_model_module": "@jupyter-widgets/base",
            "_model_module_version": "1.2.0",
            "_model_name": "LayoutModel",
            "_view_count": null,
            "_view_module": "@jupyter-widgets/base",
            "_view_module_version": "1.2.0",
            "_view_name": "LayoutView",
            "align_content": null,
            "align_items": null,
            "align_self": null,
            "border": null,
            "bottom": null,
            "display": null,
            "flex": null,
            "flex_flow": null,
            "grid_area": null,
            "grid_auto_columns": null,
            "grid_auto_flow": null,
            "grid_auto_rows": null,
            "grid_column": null,
            "grid_gap": null,
            "grid_row": null,
            "grid_template_areas": null,
            "grid_template_columns": null,
            "grid_template_rows": null,
            "height": null,
            "justify_content": null,
            "justify_items": null,
            "left": null,
            "margin": null,
            "max_height": null,
            "max_width": null,
            "min_height": null,
            "min_width": null,
            "object_fit": null,
            "object_position": null,
            "order": null,
            "overflow": null,
            "overflow_x": null,
            "overflow_y": null,
            "padding": null,
            "right": null,
            "top": null,
            "visibility": null,
            "width": null
          }
        },
        "1e0515b3ad2648eea23b7eb28292faa4": {
          "model_module": "@jupyter-widgets/controls",
          "model_name": "DescriptionStyleModel",
          "model_module_version": "1.5.0",
          "state": {
            "_model_module": "@jupyter-widgets/controls",
            "_model_module_version": "1.5.0",
            "_model_name": "DescriptionStyleModel",
            "_view_count": null,
            "_view_module": "@jupyter-widgets/base",
            "_view_module_version": "1.2.0",
            "_view_name": "StyleView",
            "description_width": ""
          }
        },
        "a18865f1446d46739d036623a2f4c1b9": {
          "model_module": "@jupyter-widgets/controls",
          "model_name": "HBoxModel",
          "model_module_version": "1.5.0",
          "state": {
            "_dom_classes": [],
            "_model_module": "@jupyter-widgets/controls",
            "_model_module_version": "1.5.0",
            "_model_name": "HBoxModel",
            "_view_count": null,
            "_view_module": "@jupyter-widgets/controls",
            "_view_module_version": "1.5.0",
            "_view_name": "HBoxView",
            "box_style": "",
            "children": [
              "IPY_MODEL_43c33354ca8b40d1842d77c3fc85b0ec",
              "IPY_MODEL_e5742f85c21148288d1f27c5ce7b5842",
              "IPY_MODEL_b1e6b5a0799c4714af41e2300e1a103d"
            ],
            "layout": "IPY_MODEL_4be593f3a3504a8193e16a477ccefe5d"
          }
        },
        "43c33354ca8b40d1842d77c3fc85b0ec": {
          "model_module": "@jupyter-widgets/controls",
          "model_name": "HTMLModel",
          "model_module_version": "1.5.0",
          "state": {
            "_dom_classes": [],
            "_model_module": "@jupyter-widgets/controls",
            "_model_module_version": "1.5.0",
            "_model_name": "HTMLModel",
            "_view_count": null,
            "_view_module": "@jupyter-widgets/controls",
            "_view_module_version": "1.5.0",
            "_view_name": "HTMLView",
            "description": "",
            "description_tooltip": null,
            "layout": "IPY_MODEL_fd9a41308c964b679b9ea1a7a8321267",
            "placeholder": "​",
            "style": "IPY_MODEL_5590bb0db1ac433fbbda9dc35eff815e",
            "value": "100%"
          }
        },
        "e5742f85c21148288d1f27c5ce7b5842": {
          "model_module": "@jupyter-widgets/controls",
          "model_name": "FloatProgressModel",
          "model_module_version": "1.5.0",
          "state": {
            "_dom_classes": [],
            "_model_module": "@jupyter-widgets/controls",
            "_model_module_version": "1.5.0",
            "_model_name": "FloatProgressModel",
            "_view_count": null,
            "_view_module": "@jupyter-widgets/controls",
            "_view_module_version": "1.5.0",
            "_view_name": "ProgressView",
            "bar_style": "success",
            "description": "",
            "description_tooltip": null,
            "layout": "IPY_MODEL_ace09eeabde4415faa1dba06ef35140e",
            "max": 1648877,
            "min": 0,
            "orientation": "horizontal",
            "style": "IPY_MODEL_e24d990f58114022baa5bb4c36e47280",
            "value": 1648877
          }
        },
        "b1e6b5a0799c4714af41e2300e1a103d": {
          "model_module": "@jupyter-widgets/controls",
          "model_name": "HTMLModel",
          "model_module_version": "1.5.0",
          "state": {
            "_dom_classes": [],
            "_model_module": "@jupyter-widgets/controls",
            "_model_module_version": "1.5.0",
            "_model_name": "HTMLModel",
            "_view_count": null,
            "_view_module": "@jupyter-widgets/controls",
            "_view_module_version": "1.5.0",
            "_view_name": "HTMLView",
            "description": "",
            "description_tooltip": null,
            "layout": "IPY_MODEL_9e8057197c934d858a4a15e236c79191",
            "placeholder": "​",
            "style": "IPY_MODEL_2a3106b795dd40ecaecc8a35db705f83",
            "value": " 1648877/1648877 [00:00&lt;00:00, 23549151.95it/s]"
          }
        },
        "4be593f3a3504a8193e16a477ccefe5d": {
          "model_module": "@jupyter-widgets/base",
          "model_name": "LayoutModel",
          "model_module_version": "1.2.0",
          "state": {
            "_model_module": "@jupyter-widgets/base",
            "_model_module_version": "1.2.0",
            "_model_name": "LayoutModel",
            "_view_count": null,
            "_view_module": "@jupyter-widgets/base",
            "_view_module_version": "1.2.0",
            "_view_name": "LayoutView",
            "align_content": null,
            "align_items": null,
            "align_self": null,
            "border": null,
            "bottom": null,
            "display": null,
            "flex": null,
            "flex_flow": null,
            "grid_area": null,
            "grid_auto_columns": null,
            "grid_auto_flow": null,
            "grid_auto_rows": null,
            "grid_column": null,
            "grid_gap": null,
            "grid_row": null,
            "grid_template_areas": null,
            "grid_template_columns": null,
            "grid_template_rows": null,
            "height": null,
            "justify_content": null,
            "justify_items": null,
            "left": null,
            "margin": null,
            "max_height": null,
            "max_width": null,
            "min_height": null,
            "min_width": null,
            "object_fit": null,
            "object_position": null,
            "order": null,
            "overflow": null,
            "overflow_x": null,
            "overflow_y": null,
            "padding": null,
            "right": null,
            "top": null,
            "visibility": null,
            "width": null
          }
        },
        "fd9a41308c964b679b9ea1a7a8321267": {
          "model_module": "@jupyter-widgets/base",
          "model_name": "LayoutModel",
          "model_module_version": "1.2.0",
          "state": {
            "_model_module": "@jupyter-widgets/base",
            "_model_module_version": "1.2.0",
            "_model_name": "LayoutModel",
            "_view_count": null,
            "_view_module": "@jupyter-widgets/base",
            "_view_module_version": "1.2.0",
            "_view_name": "LayoutView",
            "align_content": null,
            "align_items": null,
            "align_self": null,
            "border": null,
            "bottom": null,
            "display": null,
            "flex": null,
            "flex_flow": null,
            "grid_area": null,
            "grid_auto_columns": null,
            "grid_auto_flow": null,
            "grid_auto_rows": null,
            "grid_column": null,
            "grid_gap": null,
            "grid_row": null,
            "grid_template_areas": null,
            "grid_template_columns": null,
            "grid_template_rows": null,
            "height": null,
            "justify_content": null,
            "justify_items": null,
            "left": null,
            "margin": null,
            "max_height": null,
            "max_width": null,
            "min_height": null,
            "min_width": null,
            "object_fit": null,
            "object_position": null,
            "order": null,
            "overflow": null,
            "overflow_x": null,
            "overflow_y": null,
            "padding": null,
            "right": null,
            "top": null,
            "visibility": null,
            "width": null
          }
        },
        "5590bb0db1ac433fbbda9dc35eff815e": {
          "model_module": "@jupyter-widgets/controls",
          "model_name": "DescriptionStyleModel",
          "model_module_version": "1.5.0",
          "state": {
            "_model_module": "@jupyter-widgets/controls",
            "_model_module_version": "1.5.0",
            "_model_name": "DescriptionStyleModel",
            "_view_count": null,
            "_view_module": "@jupyter-widgets/base",
            "_view_module_version": "1.2.0",
            "_view_name": "StyleView",
            "description_width": ""
          }
        },
        "ace09eeabde4415faa1dba06ef35140e": {
          "model_module": "@jupyter-widgets/base",
          "model_name": "LayoutModel",
          "model_module_version": "1.2.0",
          "state": {
            "_model_module": "@jupyter-widgets/base",
            "_model_module_version": "1.2.0",
            "_model_name": "LayoutModel",
            "_view_count": null,
            "_view_module": "@jupyter-widgets/base",
            "_view_module_version": "1.2.0",
            "_view_name": "LayoutView",
            "align_content": null,
            "align_items": null,
            "align_self": null,
            "border": null,
            "bottom": null,
            "display": null,
            "flex": null,
            "flex_flow": null,
            "grid_area": null,
            "grid_auto_columns": null,
            "grid_auto_flow": null,
            "grid_auto_rows": null,
            "grid_column": null,
            "grid_gap": null,
            "grid_row": null,
            "grid_template_areas": null,
            "grid_template_columns": null,
            "grid_template_rows": null,
            "height": null,
            "justify_content": null,
            "justify_items": null,
            "left": null,
            "margin": null,
            "max_height": null,
            "max_width": null,
            "min_height": null,
            "min_width": null,
            "object_fit": null,
            "object_position": null,
            "order": null,
            "overflow": null,
            "overflow_x": null,
            "overflow_y": null,
            "padding": null,
            "right": null,
            "top": null,
            "visibility": null,
            "width": null
          }
        },
        "e24d990f58114022baa5bb4c36e47280": {
          "model_module": "@jupyter-widgets/controls",
          "model_name": "ProgressStyleModel",
          "model_module_version": "1.5.0",
          "state": {
            "_model_module": "@jupyter-widgets/controls",
            "_model_module_version": "1.5.0",
            "_model_name": "ProgressStyleModel",
            "_view_count": null,
            "_view_module": "@jupyter-widgets/base",
            "_view_module_version": "1.2.0",
            "_view_name": "StyleView",
            "bar_color": null,
            "description_width": ""
          }
        },
        "9e8057197c934d858a4a15e236c79191": {
          "model_module": "@jupyter-widgets/base",
          "model_name": "LayoutModel",
          "model_module_version": "1.2.0",
          "state": {
            "_model_module": "@jupyter-widgets/base",
            "_model_module_version": "1.2.0",
            "_model_name": "LayoutModel",
            "_view_count": null,
            "_view_module": "@jupyter-widgets/base",
            "_view_module_version": "1.2.0",
            "_view_name": "LayoutView",
            "align_content": null,
            "align_items": null,
            "align_self": null,
            "border": null,
            "bottom": null,
            "display": null,
            "flex": null,
            "flex_flow": null,
            "grid_area": null,
            "grid_auto_columns": null,
            "grid_auto_flow": null,
            "grid_auto_rows": null,
            "grid_column": null,
            "grid_gap": null,
            "grid_row": null,
            "grid_template_areas": null,
            "grid_template_columns": null,
            "grid_template_rows": null,
            "height": null,
            "justify_content": null,
            "justify_items": null,
            "left": null,
            "margin": null,
            "max_height": null,
            "max_width": null,
            "min_height": null,
            "min_width": null,
            "object_fit": null,
            "object_position": null,
            "order": null,
            "overflow": null,
            "overflow_x": null,
            "overflow_y": null,
            "padding": null,
            "right": null,
            "top": null,
            "visibility": null,
            "width": null
          }
        },
        "2a3106b795dd40ecaecc8a35db705f83": {
          "model_module": "@jupyter-widgets/controls",
          "model_name": "DescriptionStyleModel",
          "model_module_version": "1.5.0",
          "state": {
            "_model_module": "@jupyter-widgets/controls",
            "_model_module_version": "1.5.0",
            "_model_name": "DescriptionStyleModel",
            "_view_count": null,
            "_view_module": "@jupyter-widgets/base",
            "_view_module_version": "1.2.0",
            "_view_name": "StyleView",
            "description_width": ""
          }
        },
        "abfdc31b4490489caf4d4115c8670892": {
          "model_module": "@jupyter-widgets/controls",
          "model_name": "HBoxModel",
          "model_module_version": "1.5.0",
          "state": {
            "_dom_classes": [],
            "_model_module": "@jupyter-widgets/controls",
            "_model_module_version": "1.5.0",
            "_model_name": "HBoxModel",
            "_view_count": null,
            "_view_module": "@jupyter-widgets/controls",
            "_view_module_version": "1.5.0",
            "_view_name": "HBoxView",
            "box_style": "",
            "children": [
              "IPY_MODEL_aec995c2c7974f20a0a24ede8fd226ab",
              "IPY_MODEL_e11109b3b34f42fc95a2af72d74265cd",
              "IPY_MODEL_8fa3c6b6e5544569bc90e29ea3aecfc1"
            ],
            "layout": "IPY_MODEL_80b1cc9c6aa4466abbb34f447927440b"
          }
        },
        "aec995c2c7974f20a0a24ede8fd226ab": {
          "model_module": "@jupyter-widgets/controls",
          "model_name": "HTMLModel",
          "model_module_version": "1.5.0",
          "state": {
            "_dom_classes": [],
            "_model_module": "@jupyter-widgets/controls",
            "_model_module_version": "1.5.0",
            "_model_name": "HTMLModel",
            "_view_count": null,
            "_view_module": "@jupyter-widgets/controls",
            "_view_module_version": "1.5.0",
            "_view_name": "HTMLView",
            "description": "",
            "description_tooltip": null,
            "layout": "IPY_MODEL_6ac68b0450bb408ab29c7f13a2dfaaa9",
            "placeholder": "​",
            "style": "IPY_MODEL_31a397c4da834a368377db5220021ec3",
            "value": "100%"
          }
        },
        "e11109b3b34f42fc95a2af72d74265cd": {
          "model_module": "@jupyter-widgets/controls",
          "model_name": "FloatProgressModel",
          "model_module_version": "1.5.0",
          "state": {
            "_dom_classes": [],
            "_model_module": "@jupyter-widgets/controls",
            "_model_module_version": "1.5.0",
            "_model_name": "FloatProgressModel",
            "_view_count": null,
            "_view_module": "@jupyter-widgets/controls",
            "_view_module_version": "1.5.0",
            "_view_name": "ProgressView",
            "bar_style": "success",
            "description": "",
            "description_tooltip": null,
            "layout": "IPY_MODEL_7055aab9e9754befa98a4f26303ccfad",
            "max": 4542,
            "min": 0,
            "orientation": "horizontal",
            "style": "IPY_MODEL_50d8ca00caac459ebeca1da1d5793d60",
            "value": 4542
          }
        },
        "8fa3c6b6e5544569bc90e29ea3aecfc1": {
          "model_module": "@jupyter-widgets/controls",
          "model_name": "HTMLModel",
          "model_module_version": "1.5.0",
          "state": {
            "_dom_classes": [],
            "_model_module": "@jupyter-widgets/controls",
            "_model_module_version": "1.5.0",
            "_model_name": "HTMLModel",
            "_view_count": null,
            "_view_module": "@jupyter-widgets/controls",
            "_view_module_version": "1.5.0",
            "_view_name": "HTMLView",
            "description": "",
            "description_tooltip": null,
            "layout": "IPY_MODEL_cbc48f2ca9e94012be032efba30f9b1f",
            "placeholder": "​",
            "style": "IPY_MODEL_8606168802f542f793c47cfb9fbc8c94",
            "value": " 4542/4542 [00:00&lt;00:00, 307797.79it/s]"
          }
        },
        "80b1cc9c6aa4466abbb34f447927440b": {
          "model_module": "@jupyter-widgets/base",
          "model_name": "LayoutModel",
          "model_module_version": "1.2.0",
          "state": {
            "_model_module": "@jupyter-widgets/base",
            "_model_module_version": "1.2.0",
            "_model_name": "LayoutModel",
            "_view_count": null,
            "_view_module": "@jupyter-widgets/base",
            "_view_module_version": "1.2.0",
            "_view_name": "LayoutView",
            "align_content": null,
            "align_items": null,
            "align_self": null,
            "border": null,
            "bottom": null,
            "display": null,
            "flex": null,
            "flex_flow": null,
            "grid_area": null,
            "grid_auto_columns": null,
            "grid_auto_flow": null,
            "grid_auto_rows": null,
            "grid_column": null,
            "grid_gap": null,
            "grid_row": null,
            "grid_template_areas": null,
            "grid_template_columns": null,
            "grid_template_rows": null,
            "height": null,
            "justify_content": null,
            "justify_items": null,
            "left": null,
            "margin": null,
            "max_height": null,
            "max_width": null,
            "min_height": null,
            "min_width": null,
            "object_fit": null,
            "object_position": null,
            "order": null,
            "overflow": null,
            "overflow_x": null,
            "overflow_y": null,
            "padding": null,
            "right": null,
            "top": null,
            "visibility": null,
            "width": null
          }
        },
        "6ac68b0450bb408ab29c7f13a2dfaaa9": {
          "model_module": "@jupyter-widgets/base",
          "model_name": "LayoutModel",
          "model_module_version": "1.2.0",
          "state": {
            "_model_module": "@jupyter-widgets/base",
            "_model_module_version": "1.2.0",
            "_model_name": "LayoutModel",
            "_view_count": null,
            "_view_module": "@jupyter-widgets/base",
            "_view_module_version": "1.2.0",
            "_view_name": "LayoutView",
            "align_content": null,
            "align_items": null,
            "align_self": null,
            "border": null,
            "bottom": null,
            "display": null,
            "flex": null,
            "flex_flow": null,
            "grid_area": null,
            "grid_auto_columns": null,
            "grid_auto_flow": null,
            "grid_auto_rows": null,
            "grid_column": null,
            "grid_gap": null,
            "grid_row": null,
            "grid_template_areas": null,
            "grid_template_columns": null,
            "grid_template_rows": null,
            "height": null,
            "justify_content": null,
            "justify_items": null,
            "left": null,
            "margin": null,
            "max_height": null,
            "max_width": null,
            "min_height": null,
            "min_width": null,
            "object_fit": null,
            "object_position": null,
            "order": null,
            "overflow": null,
            "overflow_x": null,
            "overflow_y": null,
            "padding": null,
            "right": null,
            "top": null,
            "visibility": null,
            "width": null
          }
        },
        "31a397c4da834a368377db5220021ec3": {
          "model_module": "@jupyter-widgets/controls",
          "model_name": "DescriptionStyleModel",
          "model_module_version": "1.5.0",
          "state": {
            "_model_module": "@jupyter-widgets/controls",
            "_model_module_version": "1.5.0",
            "_model_name": "DescriptionStyleModel",
            "_view_count": null,
            "_view_module": "@jupyter-widgets/base",
            "_view_module_version": "1.2.0",
            "_view_name": "StyleView",
            "description_width": ""
          }
        },
        "7055aab9e9754befa98a4f26303ccfad": {
          "model_module": "@jupyter-widgets/base",
          "model_name": "LayoutModel",
          "model_module_version": "1.2.0",
          "state": {
            "_model_module": "@jupyter-widgets/base",
            "_model_module_version": "1.2.0",
            "_model_name": "LayoutModel",
            "_view_count": null,
            "_view_module": "@jupyter-widgets/base",
            "_view_module_version": "1.2.0",
            "_view_name": "LayoutView",
            "align_content": null,
            "align_items": null,
            "align_self": null,
            "border": null,
            "bottom": null,
            "display": null,
            "flex": null,
            "flex_flow": null,
            "grid_area": null,
            "grid_auto_columns": null,
            "grid_auto_flow": null,
            "grid_auto_rows": null,
            "grid_column": null,
            "grid_gap": null,
            "grid_row": null,
            "grid_template_areas": null,
            "grid_template_columns": null,
            "grid_template_rows": null,
            "height": null,
            "justify_content": null,
            "justify_items": null,
            "left": null,
            "margin": null,
            "max_height": null,
            "max_width": null,
            "min_height": null,
            "min_width": null,
            "object_fit": null,
            "object_position": null,
            "order": null,
            "overflow": null,
            "overflow_x": null,
            "overflow_y": null,
            "padding": null,
            "right": null,
            "top": null,
            "visibility": null,
            "width": null
          }
        },
        "50d8ca00caac459ebeca1da1d5793d60": {
          "model_module": "@jupyter-widgets/controls",
          "model_name": "ProgressStyleModel",
          "model_module_version": "1.5.0",
          "state": {
            "_model_module": "@jupyter-widgets/controls",
            "_model_module_version": "1.5.0",
            "_model_name": "ProgressStyleModel",
            "_view_count": null,
            "_view_module": "@jupyter-widgets/base",
            "_view_module_version": "1.2.0",
            "_view_name": "StyleView",
            "bar_color": null,
            "description_width": ""
          }
        },
        "cbc48f2ca9e94012be032efba30f9b1f": {
          "model_module": "@jupyter-widgets/base",
          "model_name": "LayoutModel",
          "model_module_version": "1.2.0",
          "state": {
            "_model_module": "@jupyter-widgets/base",
            "_model_module_version": "1.2.0",
            "_model_name": "LayoutModel",
            "_view_count": null,
            "_view_module": "@jupyter-widgets/base",
            "_view_module_version": "1.2.0",
            "_view_name": "LayoutView",
            "align_content": null,
            "align_items": null,
            "align_self": null,
            "border": null,
            "bottom": null,
            "display": null,
            "flex": null,
            "flex_flow": null,
            "grid_area": null,
            "grid_auto_columns": null,
            "grid_auto_flow": null,
            "grid_auto_rows": null,
            "grid_column": null,
            "grid_gap": null,
            "grid_row": null,
            "grid_template_areas": null,
            "grid_template_columns": null,
            "grid_template_rows": null,
            "height": null,
            "justify_content": null,
            "justify_items": null,
            "left": null,
            "margin": null,
            "max_height": null,
            "max_width": null,
            "min_height": null,
            "min_width": null,
            "object_fit": null,
            "object_position": null,
            "order": null,
            "overflow": null,
            "overflow_x": null,
            "overflow_y": null,
            "padding": null,
            "right": null,
            "top": null,
            "visibility": null,
            "width": null
          }
        },
        "8606168802f542f793c47cfb9fbc8c94": {
          "model_module": "@jupyter-widgets/controls",
          "model_name": "DescriptionStyleModel",
          "model_module_version": "1.5.0",
          "state": {
            "_model_module": "@jupyter-widgets/controls",
            "_model_module_version": "1.5.0",
            "_model_name": "DescriptionStyleModel",
            "_view_count": null,
            "_view_module": "@jupyter-widgets/base",
            "_view_module_version": "1.2.0",
            "_view_name": "StyleView",
            "description_width": ""
          }
        }
      }
    }
  },
  "nbformat": 4,
  "nbformat_minor": 5
}